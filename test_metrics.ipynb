{
 "cells": [
  {
   "cell_type": "code",
   "execution_count": 1,
   "id": "37c41371",
   "metadata": {},
   "outputs": [
    {
     "name": "stderr",
     "output_type": "stream",
     "text": [
      "2023-04-30 11:28:04.545289: I tensorflow/stream_executor/platform/default/dso_loader.cc:53] Successfully opened dynamic library libcudart.so.11.0\n"
     ]
    }
   ],
   "source": [
    "from tensorflow.keras.models import load_model\n",
    "from utility.loss import seg_loss, dice_coef, iou_coef\n",
    "from sklearn.preprocessing import binarize\n",
    "import tensorflow as tf\n",
    "import numpy as np\n",
    "import os\n",
    "import glob\n",
    "os.environ[\"CUDA_VISIBLE_DEVICES\"]=\"0\""
   ]
  },
  {
   "cell_type": "code",
   "execution_count": 2,
   "id": "ffc1772c",
   "metadata": {},
   "outputs": [],
   "source": [
    "def npy_loader(maindir, rtype, seed: int = 2):\n",
    "    # Get list of files in directory\n",
    "    directory = maindir + '*.npy'\n",
    "    pathlist = glob.glob(directory)\n",
    "    \n",
    "    # Iterate over list of files\n",
    "    for path in pathlist:\n",
    "        array = np.load(path)\n",
    "        img = array[:, :, 0]\n",
    "        img = (img * 2) - 1\n",
    "        if rtype == 'elli':\n",
    "            mask = array[:, :, 1]\n",
    "        else:\n",
    "            mask = binarize(array[:, :, 1])\n",
    "        yield img[..., np.newaxis], mask[..., np.newaxis]\n",
    "        \n",
    "def npy_dataset(maindir, shape_i, shape_m, seed: int = 2, batch: int = 1, rtype='elli'):\n",
    "    ds = tf.data.Dataset.from_generator(lambda: npy_loader(maindir=maindir, rtype=rtype, seed = seed), \n",
    "                                        output_types=(tf.float32, tf.float32), \n",
    "                                        output_shapes=(shape_i, shape_m))\n",
    "    return ds.batch(batch)"
   ]
  },
  {
   "cell_type": "code",
   "execution_count": null,
   "id": "2c88c777",
   "metadata": {},
   "outputs": [],
   "source": []
  },
  {
   "cell_type": "markdown",
   "id": "7f21e3e6",
   "metadata": {},
   "source": [
    "### Elliptical ROI Dataset"
   ]
  },
  {
   "cell_type": "code",
   "execution_count": 4,
   "id": "54968790",
   "metadata": {},
   "outputs": [],
   "source": [
    "# load data\n",
    "batch_size = 1\n",
    "\n",
    "elli_test_df = npy_dataset('/home/careinfolab/unet_mammo/images/pos_norm_elli/test/', \n",
    "                           (1024, 832, 1),\n",
    "                           (1024, 832, 1),\n",
    "                           seed=2, \n",
    "                           batch=batch_size, \n",
    "                           rtype='elli')"
   ]
  },
  {
   "cell_type": "markdown",
   "id": "1dbfa907",
   "metadata": {},
   "source": [
    "### Rectangular ROI Dataset"
   ]
  },
  {
   "cell_type": "code",
   "execution_count": 3,
   "id": "a8c0cfbd",
   "metadata": {},
   "outputs": [
    {
     "name": "stderr",
     "output_type": "stream",
     "text": [
      "2023-04-30 11:28:19.941164: I tensorflow/stream_executor/platform/default/dso_loader.cc:53] Successfully opened dynamic library libcuda.so.1\n",
      "2023-04-30 11:28:19.991760: I tensorflow/stream_executor/cuda/cuda_gpu_executor.cc:937] successful NUMA node read from SysFS had negative value (-1), but there must be at least one NUMA node, so returning NUMA node zero\n",
      "2023-04-30 11:28:19.991980: I tensorflow/core/common_runtime/gpu/gpu_device.cc:1733] Found device 0 with properties: \n",
      "pciBusID: 0000:01:00.0 name: NVIDIA GeForce RTX 3090 computeCapability: 8.6\n",
      "coreClock: 1.695GHz coreCount: 82 deviceMemorySize: 23.70GiB deviceMemoryBandwidth: 871.81GiB/s\n",
      "2023-04-30 11:28:19.991993: I tensorflow/stream_executor/platform/default/dso_loader.cc:53] Successfully opened dynamic library libcudart.so.11.0\n",
      "2023-04-30 11:28:19.994022: I tensorflow/stream_executor/platform/default/dso_loader.cc:53] Successfully opened dynamic library libcublas.so.11\n",
      "2023-04-30 11:28:19.994049: I tensorflow/stream_executor/platform/default/dso_loader.cc:53] Successfully opened dynamic library libcublasLt.so.11\n",
      "2023-04-30 11:28:19.994700: I tensorflow/stream_executor/platform/default/dso_loader.cc:53] Successfully opened dynamic library libcufft.so.10\n",
      "2023-04-30 11:28:19.994837: I tensorflow/stream_executor/platform/default/dso_loader.cc:53] Successfully opened dynamic library libcurand.so.10\n",
      "2023-04-30 11:28:19.995391: I tensorflow/stream_executor/platform/default/dso_loader.cc:53] Successfully opened dynamic library libcusolver.so.11\n",
      "2023-04-30 11:28:19.995869: I tensorflow/stream_executor/platform/default/dso_loader.cc:53] Successfully opened dynamic library libcusparse.so.11\n",
      "2023-04-30 11:28:19.995947: I tensorflow/stream_executor/platform/default/dso_loader.cc:53] Successfully opened dynamic library libcudnn.so.8\n",
      "2023-04-30 11:28:19.996022: I tensorflow/stream_executor/cuda/cuda_gpu_executor.cc:937] successful NUMA node read from SysFS had negative value (-1), but there must be at least one NUMA node, so returning NUMA node zero\n",
      "2023-04-30 11:28:19.996254: I tensorflow/stream_executor/cuda/cuda_gpu_executor.cc:937] successful NUMA node read from SysFS had negative value (-1), but there must be at least one NUMA node, so returning NUMA node zero\n",
      "2023-04-30 11:28:19.996432: I tensorflow/core/common_runtime/gpu/gpu_device.cc:1871] Adding visible gpu devices: 0\n",
      "2023-04-30 11:28:19.997008: I tensorflow/core/platform/cpu_feature_guard.cc:142] This TensorFlow binary is optimized with oneAPI Deep Neural Network Library (oneDNN) to use the following CPU instructions in performance-critical operations:  AVX2 FMA\n",
      "To enable them in other operations, rebuild TensorFlow with the appropriate compiler flags.\n",
      "2023-04-30 11:28:19.999128: I tensorflow/stream_executor/cuda/cuda_gpu_executor.cc:937] successful NUMA node read from SysFS had negative value (-1), but there must be at least one NUMA node, so returning NUMA node zero\n",
      "2023-04-30 11:28:19.999320: I tensorflow/core/common_runtime/gpu/gpu_device.cc:1733] Found device 0 with properties: \n",
      "pciBusID: 0000:01:00.0 name: NVIDIA GeForce RTX 3090 computeCapability: 8.6\n",
      "coreClock: 1.695GHz coreCount: 82 deviceMemorySize: 23.70GiB deviceMemoryBandwidth: 871.81GiB/s\n",
      "2023-04-30 11:28:19.999363: I tensorflow/stream_executor/cuda/cuda_gpu_executor.cc:937] successful NUMA node read from SysFS had negative value (-1), but there must be at least one NUMA node, so returning NUMA node zero\n",
      "2023-04-30 11:28:19.999566: I tensorflow/stream_executor/cuda/cuda_gpu_executor.cc:937] successful NUMA node read from SysFS had negative value (-1), but there must be at least one NUMA node, so returning NUMA node zero\n",
      "2023-04-30 11:28:19.999738: I tensorflow/core/common_runtime/gpu/gpu_device.cc:1871] Adding visible gpu devices: 0\n",
      "2023-04-30 11:28:19.999759: I tensorflow/stream_executor/platform/default/dso_loader.cc:53] Successfully opened dynamic library libcudart.so.11.0\n",
      "2023-04-30 11:28:20.358322: I tensorflow/core/common_runtime/gpu/gpu_device.cc:1258] Device interconnect StreamExecutor with strength 1 edge matrix:\n",
      "2023-04-30 11:28:20.358351: I tensorflow/core/common_runtime/gpu/gpu_device.cc:1264]      0 \n",
      "2023-04-30 11:28:20.358356: I tensorflow/core/common_runtime/gpu/gpu_device.cc:1277] 0:   N \n",
      "2023-04-30 11:28:20.358533: I tensorflow/stream_executor/cuda/cuda_gpu_executor.cc:937] successful NUMA node read from SysFS had negative value (-1), but there must be at least one NUMA node, so returning NUMA node zero\n",
      "2023-04-30 11:28:20.358772: I tensorflow/stream_executor/cuda/cuda_gpu_executor.cc:937] successful NUMA node read from SysFS had negative value (-1), but there must be at least one NUMA node, so returning NUMA node zero\n",
      "2023-04-30 11:28:20.358982: I tensorflow/stream_executor/cuda/cuda_gpu_executor.cc:937] successful NUMA node read from SysFS had negative value (-1), but there must be at least one NUMA node, so returning NUMA node zero\n",
      "2023-04-30 11:28:20.359178: I tensorflow/core/common_runtime/gpu/gpu_device.cc:1418] Created TensorFlow device (/job:localhost/replica:0/task:0/device:GPU:0 with 22126 MB memory) -> physical GPU (device: 0, name: NVIDIA GeForce RTX 3090, pci bus id: 0000:01:00.0, compute capability: 8.6)\n"
     ]
    }
   ],
   "source": [
    "# load data\n",
    "batch_size = 1\n",
    "\n",
    "rect_test_df = npy_dataset('/home/careinfolab/unet_mammo/images/pos_norm/test/', \n",
    "                           (1024, 832, 1),\n",
    "                           (1024, 832, 1),\n",
    "                           seed=2, \n",
    "                           batch=batch_size, \n",
    "                           rtype='rect')"
   ]
  },
  {
   "cell_type": "markdown",
   "id": "42a0c49e",
   "metadata": {},
   "source": [
    "## Original UNet"
   ]
  },
  {
   "cell_type": "markdown",
   "id": "0b142c2c",
   "metadata": {},
   "source": [
    "### Elliptical ROI:"
   ]
  },
  {
   "cell_type": "code",
   "execution_count": 22,
   "id": "5ee17242",
   "metadata": {
    "scrolled": true
   },
   "outputs": [
    {
     "name": "stdout",
     "output_type": "stream",
     "text": [
      "WARNING:tensorflow:Unable to restore custom metric. Please ensure that the layer implements `get_config` and `from_config` when saving. In addition, please use the `custom_objects` arg when calling `load_model()`.\n",
      "WARNING:tensorflow:Unable to restore custom metric. Please ensure that the layer implements `get_config` and `from_config` when saving. In addition, please use the `custom_objects` arg when calling `load_model()`.\n",
      "Model: \"model\"\n",
      "__________________________________________________________________________________________________\n",
      "Layer (type)                    Output Shape         Param #     Connected to                     \n",
      "==================================================================================================\n",
      "input_1 (InputLayer)            [(None, 1024, 832, 1 0                                            \n",
      "__________________________________________________________________________________________________\n",
      "conv2d (Conv2D)                 (None, 1024, 832, 64 640         input_1[0][0]                    \n",
      "__________________________________________________________________________________________________\n",
      "conv2d_1 (Conv2D)               (None, 1024, 832, 64 36928       conv2d[0][0]                     \n",
      "__________________________________________________________________________________________________\n",
      "max_pooling2d (MaxPooling2D)    (None, 512, 416, 64) 0           conv2d_1[0][0]                   \n",
      "__________________________________________________________________________________________________\n",
      "conv2d_2 (Conv2D)               (None, 512, 416, 128 73856       max_pooling2d[0][0]              \n",
      "__________________________________________________________________________________________________\n",
      "conv2d_3 (Conv2D)               (None, 512, 416, 128 147584      conv2d_2[0][0]                   \n",
      "__________________________________________________________________________________________________\n",
      "max_pooling2d_1 (MaxPooling2D)  (None, 256, 208, 128 0           conv2d_3[0][0]                   \n",
      "__________________________________________________________________________________________________\n",
      "conv2d_4 (Conv2D)               (None, 256, 208, 256 295168      max_pooling2d_1[0][0]            \n",
      "__________________________________________________________________________________________________\n",
      "conv2d_5 (Conv2D)               (None, 256, 208, 256 590080      conv2d_4[0][0]                   \n",
      "__________________________________________________________________________________________________\n",
      "max_pooling2d_2 (MaxPooling2D)  (None, 128, 104, 256 0           conv2d_5[0][0]                   \n",
      "__________________________________________________________________________________________________\n",
      "conv2d_6 (Conv2D)               (None, 128, 104, 512 1180160     max_pooling2d_2[0][0]            \n",
      "__________________________________________________________________________________________________\n",
      "conv2d_7 (Conv2D)               (None, 128, 104, 512 2359808     conv2d_6[0][0]                   \n",
      "__________________________________________________________________________________________________\n",
      "max_pooling2d_3 (MaxPooling2D)  (None, 64, 52, 512)  0           conv2d_7[0][0]                   \n",
      "__________________________________________________________________________________________________\n",
      "conv2d_8 (Conv2D)               (None, 64, 52, 1024) 4719616     max_pooling2d_3[0][0]            \n",
      "__________________________________________________________________________________________________\n",
      "conv2d_9 (Conv2D)               (None, 64, 52, 1024) 9438208     conv2d_8[0][0]                   \n",
      "__________________________________________________________________________________________________\n",
      "dropout_1 (Dropout)             (None, 64, 52, 1024) 0           conv2d_9[0][0]                   \n",
      "__________________________________________________________________________________________________\n",
      "up_sampling2d (UpSampling2D)    (None, 128, 104, 102 0           dropout_1[0][0]                  \n",
      "__________________________________________________________________________________________________\n",
      "dropout (Dropout)               (None, 128, 104, 512 0           conv2d_7[0][0]                   \n",
      "__________________________________________________________________________________________________\n",
      "conv2d_10 (Conv2D)              (None, 128, 104, 512 2097664     up_sampling2d[0][0]              \n",
      "__________________________________________________________________________________________________\n",
      "concatenate (Concatenate)       (None, 128, 104, 102 0           dropout[0][0]                    \n",
      "                                                                 conv2d_10[0][0]                  \n",
      "__________________________________________________________________________________________________\n",
      "conv2d_11 (Conv2D)              (None, 128, 104, 512 4719104     concatenate[0][0]                \n",
      "__________________________________________________________________________________________________\n",
      "conv2d_12 (Conv2D)              (None, 128, 104, 512 2359808     conv2d_11[0][0]                  \n",
      "__________________________________________________________________________________________________\n",
      "up_sampling2d_1 (UpSampling2D)  (None, 256, 208, 512 0           conv2d_12[0][0]                  \n",
      "__________________________________________________________________________________________________\n",
      "conv2d_13 (Conv2D)              (None, 256, 208, 256 524544      up_sampling2d_1[0][0]            \n",
      "__________________________________________________________________________________________________\n",
      "concatenate_1 (Concatenate)     (None, 256, 208, 512 0           conv2d_5[0][0]                   \n",
      "                                                                 conv2d_13[0][0]                  \n",
      "__________________________________________________________________________________________________\n",
      "conv2d_14 (Conv2D)              (None, 256, 208, 256 1179904     concatenate_1[0][0]              \n",
      "__________________________________________________________________________________________________\n",
      "conv2d_15 (Conv2D)              (None, 256, 208, 256 590080      conv2d_14[0][0]                  \n",
      "__________________________________________________________________________________________________\n",
      "up_sampling2d_2 (UpSampling2D)  (None, 512, 416, 256 0           conv2d_15[0][0]                  \n",
      "__________________________________________________________________________________________________\n",
      "conv2d_16 (Conv2D)              (None, 512, 416, 128 131200      up_sampling2d_2[0][0]            \n",
      "__________________________________________________________________________________________________\n",
      "concatenate_2 (Concatenate)     (None, 512, 416, 256 0           conv2d_3[0][0]                   \n",
      "                                                                 conv2d_16[0][0]                  \n",
      "__________________________________________________________________________________________________\n",
      "conv2d_17 (Conv2D)              (None, 512, 416, 128 295040      concatenate_2[0][0]              \n",
      "__________________________________________________________________________________________________\n",
      "conv2d_18 (Conv2D)              (None, 512, 416, 128 147584      conv2d_17[0][0]                  \n",
      "__________________________________________________________________________________________________\n",
      "up_sampling2d_3 (UpSampling2D)  (None, 1024, 832, 12 0           conv2d_18[0][0]                  \n",
      "__________________________________________________________________________________________________\n",
      "conv2d_19 (Conv2D)              (None, 1024, 832, 64 32832       up_sampling2d_3[0][0]            \n",
      "__________________________________________________________________________________________________\n",
      "concatenate_3 (Concatenate)     (None, 1024, 832, 12 0           conv2d_1[0][0]                   \n",
      "                                                                 conv2d_19[0][0]                  \n",
      "__________________________________________________________________________________________________\n",
      "conv2d_20 (Conv2D)              (None, 1024, 832, 64 73792       concatenate_3[0][0]              \n",
      "__________________________________________________________________________________________________\n",
      "conv2d_21 (Conv2D)              (None, 1024, 832, 64 36928       conv2d_20[0][0]                  \n",
      "__________________________________________________________________________________________________\n",
      "conv2d_22 (Conv2D)              (None, 1024, 832, 2) 1154        conv2d_21[0][0]                  \n",
      "__________________________________________________________________________________________________\n",
      "conv2d_23 (Conv2D)              (None, 1024, 832, 1) 19          conv2d_22[0][0]                  \n",
      "==================================================================================================\n",
      "Total params: 31,031,701\n",
      "Trainable params: 31,031,701\n",
      "Non-trainable params: 0\n",
      "__________________________________________________________________________________________________\n"
     ]
    }
   ],
   "source": [
    "model_path = '/home/careinfolab/unet_mammo/base_unet/unet_original_test7/'\n",
    "\n",
    "model = load_model(model_path, compile=False)\n",
    "model.compile(loss=[seg_loss], metrics=[dice_coef, iou_coef])\n",
    "model.summary()\n"
   ]
  },
  {
   "cell_type": "code",
   "execution_count": 23,
   "id": "0031b39a",
   "metadata": {},
   "outputs": [
    {
     "name": "stdout",
     "output_type": "stream",
     "text": [
      "688/688 [==============================] - 51s 68ms/step - loss: -0.1867 - dice_coef: 0.2342 - iou_coef: 0.1550\n",
      "Loss:  -0.18669822812080383\n",
      "DICE:  0.23420929908752441\n",
      "IOU:  0.15502415597438812\n"
     ]
    }
   ],
   "source": [
    "test_loss, test_dice, test_iou = model.evaluate(elli_test_df)\n",
    "print('Loss: ', test_loss)\n",
    "print('DICE: ', test_dice)\n",
    "print('IOU: ', test_iou)"
   ]
  },
  {
   "cell_type": "markdown",
   "id": "e4264edd",
   "metadata": {},
   "source": [
    "### Rectangular ROI:"
   ]
  },
  {
   "cell_type": "code",
   "execution_count": 27,
   "id": "fa3f8ab8",
   "metadata": {
    "scrolled": true
   },
   "outputs": [
    {
     "name": "stdout",
     "output_type": "stream",
     "text": [
      "WARNING:tensorflow:Unable to restore custom metric. Please ensure that the layer implements `get_config` and `from_config` when saving. In addition, please use the `custom_objects` arg when calling `load_model()`.\n",
      "WARNING:tensorflow:Unable to restore custom metric. Please ensure that the layer implements `get_config` and `from_config` when saving. In addition, please use the `custom_objects` arg when calling `load_model()`.\n",
      "Model: \"model\"\n",
      "__________________________________________________________________________________________________\n",
      "Layer (type)                    Output Shape         Param #     Connected to                     \n",
      "==================================================================================================\n",
      "input_1 (InputLayer)            [(None, 1024, 832, 1 0                                            \n",
      "__________________________________________________________________________________________________\n",
      "conv2d (Conv2D)                 (None, 1024, 832, 64 640         input_1[0][0]                    \n",
      "__________________________________________________________________________________________________\n",
      "conv2d_1 (Conv2D)               (None, 1024, 832, 64 36928       conv2d[0][0]                     \n",
      "__________________________________________________________________________________________________\n",
      "max_pooling2d (MaxPooling2D)    (None, 512, 416, 64) 0           conv2d_1[0][0]                   \n",
      "__________________________________________________________________________________________________\n",
      "conv2d_2 (Conv2D)               (None, 512, 416, 128 73856       max_pooling2d[0][0]              \n",
      "__________________________________________________________________________________________________\n",
      "conv2d_3 (Conv2D)               (None, 512, 416, 128 147584      conv2d_2[0][0]                   \n",
      "__________________________________________________________________________________________________\n",
      "max_pooling2d_1 (MaxPooling2D)  (None, 256, 208, 128 0           conv2d_3[0][0]                   \n",
      "__________________________________________________________________________________________________\n",
      "conv2d_4 (Conv2D)               (None, 256, 208, 256 295168      max_pooling2d_1[0][0]            \n",
      "__________________________________________________________________________________________________\n",
      "conv2d_5 (Conv2D)               (None, 256, 208, 256 590080      conv2d_4[0][0]                   \n",
      "__________________________________________________________________________________________________\n",
      "max_pooling2d_2 (MaxPooling2D)  (None, 128, 104, 256 0           conv2d_5[0][0]                   \n",
      "__________________________________________________________________________________________________\n",
      "conv2d_6 (Conv2D)               (None, 128, 104, 512 1180160     max_pooling2d_2[0][0]            \n",
      "__________________________________________________________________________________________________\n",
      "conv2d_7 (Conv2D)               (None, 128, 104, 512 2359808     conv2d_6[0][0]                   \n",
      "__________________________________________________________________________________________________\n",
      "max_pooling2d_3 (MaxPooling2D)  (None, 64, 52, 512)  0           conv2d_7[0][0]                   \n",
      "__________________________________________________________________________________________________\n",
      "conv2d_8 (Conv2D)               (None, 64, 52, 1024) 4719616     max_pooling2d_3[0][0]            \n",
      "__________________________________________________________________________________________________\n",
      "conv2d_9 (Conv2D)               (None, 64, 52, 1024) 9438208     conv2d_8[0][0]                   \n",
      "__________________________________________________________________________________________________\n",
      "dropout_1 (Dropout)             (None, 64, 52, 1024) 0           conv2d_9[0][0]                   \n",
      "__________________________________________________________________________________________________\n",
      "up_sampling2d (UpSampling2D)    (None, 128, 104, 102 0           dropout_1[0][0]                  \n",
      "__________________________________________________________________________________________________\n",
      "dropout (Dropout)               (None, 128, 104, 512 0           conv2d_7[0][0]                   \n",
      "__________________________________________________________________________________________________\n",
      "conv2d_10 (Conv2D)              (None, 128, 104, 512 2097664     up_sampling2d[0][0]              \n",
      "__________________________________________________________________________________________________\n",
      "concatenate (Concatenate)       (None, 128, 104, 102 0           dropout[0][0]                    \n",
      "                                                                 conv2d_10[0][0]                  \n",
      "__________________________________________________________________________________________________\n",
      "conv2d_11 (Conv2D)              (None, 128, 104, 512 4719104     concatenate[0][0]                \n",
      "__________________________________________________________________________________________________\n",
      "conv2d_12 (Conv2D)              (None, 128, 104, 512 2359808     conv2d_11[0][0]                  \n",
      "__________________________________________________________________________________________________\n",
      "up_sampling2d_1 (UpSampling2D)  (None, 256, 208, 512 0           conv2d_12[0][0]                  \n",
      "__________________________________________________________________________________________________\n",
      "conv2d_13 (Conv2D)              (None, 256, 208, 256 524544      up_sampling2d_1[0][0]            \n",
      "__________________________________________________________________________________________________\n",
      "concatenate_1 (Concatenate)     (None, 256, 208, 512 0           conv2d_5[0][0]                   \n",
      "                                                                 conv2d_13[0][0]                  \n",
      "__________________________________________________________________________________________________\n",
      "conv2d_14 (Conv2D)              (None, 256, 208, 256 1179904     concatenate_1[0][0]              \n",
      "__________________________________________________________________________________________________\n",
      "conv2d_15 (Conv2D)              (None, 256, 208, 256 590080      conv2d_14[0][0]                  \n",
      "__________________________________________________________________________________________________\n",
      "up_sampling2d_2 (UpSampling2D)  (None, 512, 416, 256 0           conv2d_15[0][0]                  \n",
      "__________________________________________________________________________________________________\n",
      "conv2d_16 (Conv2D)              (None, 512, 416, 128 131200      up_sampling2d_2[0][0]            \n",
      "__________________________________________________________________________________________________\n",
      "concatenate_2 (Concatenate)     (None, 512, 416, 256 0           conv2d_3[0][0]                   \n",
      "                                                                 conv2d_16[0][0]                  \n",
      "__________________________________________________________________________________________________\n",
      "conv2d_17 (Conv2D)              (None, 512, 416, 128 295040      concatenate_2[0][0]              \n",
      "__________________________________________________________________________________________________\n",
      "conv2d_18 (Conv2D)              (None, 512, 416, 128 147584      conv2d_17[0][0]                  \n",
      "__________________________________________________________________________________________________\n",
      "up_sampling2d_3 (UpSampling2D)  (None, 1024, 832, 12 0           conv2d_18[0][0]                  \n",
      "__________________________________________________________________________________________________\n",
      "conv2d_19 (Conv2D)              (None, 1024, 832, 64 32832       up_sampling2d_3[0][0]            \n",
      "__________________________________________________________________________________________________\n",
      "concatenate_3 (Concatenate)     (None, 1024, 832, 12 0           conv2d_1[0][0]                   \n",
      "                                                                 conv2d_19[0][0]                  \n",
      "__________________________________________________________________________________________________\n",
      "conv2d_20 (Conv2D)              (None, 1024, 832, 64 73792       concatenate_3[0][0]              \n",
      "__________________________________________________________________________________________________\n",
      "conv2d_21 (Conv2D)              (None, 1024, 832, 64 36928       conv2d_20[0][0]                  \n",
      "__________________________________________________________________________________________________\n",
      "conv2d_22 (Conv2D)              (None, 1024, 832, 2) 1154        conv2d_21[0][0]                  \n",
      "__________________________________________________________________________________________________\n",
      "conv2d_23 (Conv2D)              (None, 1024, 832, 1) 19          conv2d_22[0][0]                  \n",
      "==================================================================================================\n",
      "Total params: 31,031,701\n",
      "Trainable params: 31,031,701\n",
      "Non-trainable params: 0\n",
      "__________________________________________________________________________________________________\n"
     ]
    }
   ],
   "source": [
    "model_path = '/home/careinfolab/unet_mammo/base_unet/unet_original_test6/'\n",
    "\n",
    "model = load_model(model_path, compile=False)\n",
    "model.compile(loss=[seg_loss], metrics=[dice_coef, iou_coef])\n",
    "model.summary()\n"
   ]
  },
  {
   "cell_type": "code",
   "execution_count": 28,
   "id": "77a137b6",
   "metadata": {},
   "outputs": [
    {
     "name": "stdout",
     "output_type": "stream",
     "text": [
      "688/688 [==============================] - 49s 71ms/step - loss: -0.1968 - dice_coef: 0.2485 - iou_coef: 0.1624\n",
      "Loss:  -0.1968419998884201\n",
      "DICE:  0.24846112728118896\n",
      "IOU:  0.1624293178319931\n"
     ]
    }
   ],
   "source": [
    "test_loss, test_dice, test_iou = model.evaluate(rect_test_df)\n",
    "print('Loss: ', test_loss)\n",
    "print('DICE: ', test_dice)\n",
    "print('IOU: ', test_iou)"
   ]
  },
  {
   "cell_type": "markdown",
   "id": "5b911b89",
   "metadata": {},
   "source": [
    "### --------------------------------------------------------------------------------------------------------------------\n",
    "## ResUNet"
   ]
  },
  {
   "cell_type": "markdown",
   "id": "90869217",
   "metadata": {},
   "source": [
    "### Elliptical ROI:"
   ]
  },
  {
   "cell_type": "code",
   "execution_count": 29,
   "id": "3a23738f",
   "metadata": {},
   "outputs": [
    {
     "name": "stdout",
     "output_type": "stream",
     "text": [
      "WARNING:tensorflow:Unable to restore custom metric. Please ensure that the layer implements `get_config` and `from_config` when saving. In addition, please use the `custom_objects` arg when calling `load_model()`.\n",
      "WARNING:tensorflow:Unable to restore custom metric. Please ensure that the layer implements `get_config` and `from_config` when saving. In addition, please use the `custom_objects` arg when calling `load_model()`.\n",
      "Model: \"model\"\n",
      "__________________________________________________________________________________________________\n",
      "Layer (type)                    Output Shape         Param #     Connected to                     \n",
      "==================================================================================================\n",
      "input_1 (InputLayer)            [(None, 1024, 832, 1 0                                            \n",
      "__________________________________________________________________________________________________\n",
      "conv2d (Conv2D)                 (None, 1024, 832, 32 320         input_1[0][0]                    \n",
      "__________________________________________________________________________________________________\n",
      "batch_normalization (BatchNorma (None, 1024, 832, 32 128         conv2d[0][0]                     \n",
      "__________________________________________________________________________________________________\n",
      "conv2d_1 (Conv2D)               (None, 1024, 832, 32 9248        batch_normalization[0][0]        \n",
      "__________________________________________________________________________________________________\n",
      "batch_normalization_1 (BatchNor (None, 1024, 832, 32 128         conv2d_1[0][0]                   \n",
      "__________________________________________________________________________________________________\n",
      "conv2d_2 (Conv2D)               (None, 1024, 832, 32 9248        batch_normalization_1[0][0]      \n",
      "__________________________________________________________________________________________________\n",
      "batch_normalization_2 (BatchNor (None, 1024, 832, 32 128         conv2d_2[0][0]                   \n",
      "__________________________________________________________________________________________________\n",
      "add (Add)                       (None, 1024, 832, 32 0           batch_normalization_2[0][0]      \n",
      "                                                                 batch_normalization[0][0]        \n",
      "__________________________________________________________________________________________________\n",
      "activation (Activation)         (None, 1024, 832, 32 0           add[0][0]                        \n",
      "__________________________________________________________________________________________________\n",
      "max_pooling2d (MaxPooling2D)    (None, 512, 416, 32) 0           activation[0][0]                 \n",
      "__________________________________________________________________________________________________\n",
      "dropout (Dropout)               (None, 512, 416, 32) 0           max_pooling2d[0][0]              \n",
      "__________________________________________________________________________________________________\n",
      "conv2d_3 (Conv2D)               (None, 512, 416, 64) 18496       dropout[0][0]                    \n",
      "__________________________________________________________________________________________________\n",
      "batch_normalization_3 (BatchNor (None, 512, 416, 64) 256         conv2d_3[0][0]                   \n",
      "__________________________________________________________________________________________________\n",
      "conv2d_4 (Conv2D)               (None, 512, 416, 64) 36928       batch_normalization_3[0][0]      \n",
      "__________________________________________________________________________________________________\n",
      "batch_normalization_4 (BatchNor (None, 512, 416, 64) 256         conv2d_4[0][0]                   \n",
      "__________________________________________________________________________________________________\n",
      "conv2d_5 (Conv2D)               (None, 512, 416, 64) 36928       batch_normalization_4[0][0]      \n",
      "__________________________________________________________________________________________________\n",
      "batch_normalization_5 (BatchNor (None, 512, 416, 64) 256         conv2d_5[0][0]                   \n",
      "__________________________________________________________________________________________________\n",
      "add_1 (Add)                     (None, 512, 416, 64) 0           batch_normalization_5[0][0]      \n",
      "                                                                 batch_normalization_3[0][0]      \n",
      "__________________________________________________________________________________________________\n",
      "activation_1 (Activation)       (None, 512, 416, 64) 0           add_1[0][0]                      \n",
      "__________________________________________________________________________________________________\n",
      "max_pooling2d_1 (MaxPooling2D)  (None, 256, 208, 64) 0           activation_1[0][0]               \n",
      "__________________________________________________________________________________________________\n",
      "dropout_1 (Dropout)             (None, 256, 208, 64) 0           max_pooling2d_1[0][0]            \n",
      "__________________________________________________________________________________________________\n",
      "conv2d_6 (Conv2D)               (None, 256, 208, 128 73856       dropout_1[0][0]                  \n",
      "__________________________________________________________________________________________________\n",
      "batch_normalization_6 (BatchNor (None, 256, 208, 128 512         conv2d_6[0][0]                   \n",
      "__________________________________________________________________________________________________\n",
      "conv2d_7 (Conv2D)               (None, 256, 208, 128 147584      batch_normalization_6[0][0]      \n",
      "__________________________________________________________________________________________________\n",
      "batch_normalization_7 (BatchNor (None, 256, 208, 128 512         conv2d_7[0][0]                   \n",
      "__________________________________________________________________________________________________\n",
      "conv2d_8 (Conv2D)               (None, 256, 208, 128 147584      batch_normalization_7[0][0]      \n",
      "__________________________________________________________________________________________________\n",
      "batch_normalization_8 (BatchNor (None, 256, 208, 128 512         conv2d_8[0][0]                   \n",
      "__________________________________________________________________________________________________\n",
      "add_2 (Add)                     (None, 256, 208, 128 0           batch_normalization_8[0][0]      \n",
      "                                                                 batch_normalization_6[0][0]      \n",
      "__________________________________________________________________________________________________\n",
      "activation_2 (Activation)       (None, 256, 208, 128 0           add_2[0][0]                      \n",
      "__________________________________________________________________________________________________\n",
      "max_pooling2d_2 (MaxPooling2D)  (None, 128, 104, 128 0           activation_2[0][0]               \n",
      "__________________________________________________________________________________________________\n",
      "dropout_2 (Dropout)             (None, 128, 104, 128 0           max_pooling2d_2[0][0]            \n",
      "__________________________________________________________________________________________________\n",
      "conv2d_9 (Conv2D)               (None, 128, 104, 256 295168      dropout_2[0][0]                  \n",
      "__________________________________________________________________________________________________\n",
      "batch_normalization_9 (BatchNor (None, 128, 104, 256 1024        conv2d_9[0][0]                   \n",
      "__________________________________________________________________________________________________\n",
      "conv2d_10 (Conv2D)              (None, 128, 104, 256 590080      batch_normalization_9[0][0]      \n",
      "__________________________________________________________________________________________________\n",
      "batch_normalization_10 (BatchNo (None, 128, 104, 256 1024        conv2d_10[0][0]                  \n",
      "__________________________________________________________________________________________________\n",
      "conv2d_11 (Conv2D)              (None, 128, 104, 256 590080      batch_normalization_10[0][0]     \n",
      "__________________________________________________________________________________________________\n",
      "batch_normalization_11 (BatchNo (None, 128, 104, 256 1024        conv2d_11[0][0]                  \n",
      "__________________________________________________________________________________________________\n",
      "add_3 (Add)                     (None, 128, 104, 256 0           batch_normalization_11[0][0]     \n",
      "                                                                 batch_normalization_9[0][0]      \n",
      "__________________________________________________________________________________________________\n",
      "activation_3 (Activation)       (None, 128, 104, 256 0           add_3[0][0]                      \n",
      "__________________________________________________________________________________________________\n",
      "max_pooling2d_3 (MaxPooling2D)  (None, 64, 52, 256)  0           activation_3[0][0]               \n",
      "__________________________________________________________________________________________________\n",
      "dropout_3 (Dropout)             (None, 64, 52, 256)  0           max_pooling2d_3[0][0]            \n",
      "__________________________________________________________________________________________________\n",
      "conv2d_12 (Conv2D)              (None, 64, 52, 512)  1180160     dropout_3[0][0]                  \n",
      "__________________________________________________________________________________________________\n",
      "batch_normalization_12 (BatchNo (None, 64, 52, 512)  2048        conv2d_12[0][0]                  \n",
      "__________________________________________________________________________________________________\n",
      "conv2d_13 (Conv2D)              (None, 64, 52, 512)  2359808     batch_normalization_12[0][0]     \n",
      "__________________________________________________________________________________________________\n",
      "batch_normalization_13 (BatchNo (None, 64, 52, 512)  2048        conv2d_13[0][0]                  \n",
      "__________________________________________________________________________________________________\n",
      "conv2d_14 (Conv2D)              (None, 64, 52, 512)  2359808     batch_normalization_13[0][0]     \n",
      "__________________________________________________________________________________________________\n",
      "batch_normalization_14 (BatchNo (None, 64, 52, 512)  2048        conv2d_14[0][0]                  \n",
      "__________________________________________________________________________________________________\n",
      "add_4 (Add)                     (None, 64, 52, 512)  0           batch_normalization_14[0][0]     \n",
      "                                                                 batch_normalization_12[0][0]     \n",
      "__________________________________________________________________________________________________\n",
      "activation_4 (Activation)       (None, 64, 52, 512)  0           add_4[0][0]                      \n",
      "__________________________________________________________________________________________________\n",
      "conv2d_transpose (Conv2DTranspo (None, 128, 104, 256 524544      activation_4[0][0]               \n",
      "__________________________________________________________________________________________________\n",
      "concatenate (Concatenate)       (None, 128, 104, 512 0           conv2d_transpose[0][0]           \n",
      "                                                                 activation_3[0][0]               \n",
      "__________________________________________________________________________________________________\n",
      "conv2d_15 (Conv2D)              (None, 128, 104, 256 1179904     concatenate[0][0]                \n",
      "__________________________________________________________________________________________________\n",
      "batch_normalization_15 (BatchNo (None, 128, 104, 256 1024        conv2d_15[0][0]                  \n",
      "__________________________________________________________________________________________________\n",
      "conv2d_16 (Conv2D)              (None, 128, 104, 256 590080      batch_normalization_15[0][0]     \n",
      "__________________________________________________________________________________________________\n",
      "batch_normalization_16 (BatchNo (None, 128, 104, 256 1024        conv2d_16[0][0]                  \n",
      "__________________________________________________________________________________________________\n",
      "conv2d_17 (Conv2D)              (None, 128, 104, 256 590080      batch_normalization_16[0][0]     \n",
      "__________________________________________________________________________________________________\n",
      "batch_normalization_17 (BatchNo (None, 128, 104, 256 1024        conv2d_17[0][0]                  \n",
      "__________________________________________________________________________________________________\n",
      "add_5 (Add)                     (None, 128, 104, 256 0           batch_normalization_17[0][0]     \n",
      "                                                                 batch_normalization_15[0][0]     \n",
      "__________________________________________________________________________________________________\n",
      "activation_5 (Activation)       (None, 128, 104, 256 0           add_5[0][0]                      \n",
      "__________________________________________________________________________________________________\n",
      "conv2d_transpose_1 (Conv2DTrans (None, 256, 208, 128 131200      activation_5[0][0]               \n",
      "__________________________________________________________________________________________________\n",
      "concatenate_1 (Concatenate)     (None, 256, 208, 256 0           conv2d_transpose_1[0][0]         \n",
      "                                                                 activation_2[0][0]               \n",
      "__________________________________________________________________________________________________\n",
      "conv2d_18 (Conv2D)              (None, 256, 208, 128 295040      concatenate_1[0][0]              \n",
      "__________________________________________________________________________________________________\n",
      "batch_normalization_18 (BatchNo (None, 256, 208, 128 512         conv2d_18[0][0]                  \n",
      "__________________________________________________________________________________________________\n",
      "conv2d_19 (Conv2D)              (None, 256, 208, 128 147584      batch_normalization_18[0][0]     \n",
      "__________________________________________________________________________________________________\n",
      "batch_normalization_19 (BatchNo (None, 256, 208, 128 512         conv2d_19[0][0]                  \n",
      "__________________________________________________________________________________________________\n",
      "conv2d_20 (Conv2D)              (None, 256, 208, 128 147584      batch_normalization_19[0][0]     \n",
      "__________________________________________________________________________________________________\n",
      "batch_normalization_20 (BatchNo (None, 256, 208, 128 512         conv2d_20[0][0]                  \n",
      "__________________________________________________________________________________________________\n",
      "add_6 (Add)                     (None, 256, 208, 128 0           batch_normalization_20[0][0]     \n",
      "                                                                 batch_normalization_18[0][0]     \n",
      "__________________________________________________________________________________________________\n",
      "activation_6 (Activation)       (None, 256, 208, 128 0           add_6[0][0]                      \n",
      "__________________________________________________________________________________________________\n",
      "conv2d_transpose_2 (Conv2DTrans (None, 512, 416, 64) 32832       activation_6[0][0]               \n",
      "__________________________________________________________________________________________________\n",
      "concatenate_2 (Concatenate)     (None, 512, 416, 128 0           conv2d_transpose_2[0][0]         \n",
      "                                                                 activation_1[0][0]               \n",
      "__________________________________________________________________________________________________\n",
      "conv2d_21 (Conv2D)              (None, 512, 416, 64) 73792       concatenate_2[0][0]              \n",
      "__________________________________________________________________________________________________\n",
      "batch_normalization_21 (BatchNo (None, 512, 416, 64) 256         conv2d_21[0][0]                  \n",
      "__________________________________________________________________________________________________\n",
      "conv2d_22 (Conv2D)              (None, 512, 416, 64) 36928       batch_normalization_21[0][0]     \n",
      "__________________________________________________________________________________________________\n",
      "batch_normalization_22 (BatchNo (None, 512, 416, 64) 256         conv2d_22[0][0]                  \n",
      "__________________________________________________________________________________________________\n",
      "conv2d_23 (Conv2D)              (None, 512, 416, 64) 36928       batch_normalization_22[0][0]     \n",
      "__________________________________________________________________________________________________\n",
      "batch_normalization_23 (BatchNo (None, 512, 416, 64) 256         conv2d_23[0][0]                  \n",
      "__________________________________________________________________________________________________\n",
      "add_7 (Add)                     (None, 512, 416, 64) 0           batch_normalization_23[0][0]     \n",
      "                                                                 batch_normalization_21[0][0]     \n",
      "__________________________________________________________________________________________________\n",
      "activation_7 (Activation)       (None, 512, 416, 64) 0           add_7[0][0]                      \n",
      "__________________________________________________________________________________________________\n",
      "conv2d_transpose_3 (Conv2DTrans (None, 1024, 832, 32 8224        activation_7[0][0]               \n",
      "__________________________________________________________________________________________________\n",
      "concatenate_3 (Concatenate)     (None, 1024, 832, 64 0           conv2d_transpose_3[0][0]         \n",
      "                                                                 activation[0][0]                 \n",
      "__________________________________________________________________________________________________\n",
      "conv2d_24 (Conv2D)              (None, 1024, 832, 32 18464       concatenate_3[0][0]              \n",
      "__________________________________________________________________________________________________\n",
      "batch_normalization_24 (BatchNo (None, 1024, 832, 32 128         conv2d_24[0][0]                  \n",
      "__________________________________________________________________________________________________\n",
      "conv2d_25 (Conv2D)              (None, 1024, 832, 32 9248        batch_normalization_24[0][0]     \n",
      "__________________________________________________________________________________________________\n",
      "batch_normalization_25 (BatchNo (None, 1024, 832, 32 128         conv2d_25[0][0]                  \n",
      "__________________________________________________________________________________________________\n",
      "conv2d_26 (Conv2D)              (None, 1024, 832, 32 9248        batch_normalization_25[0][0]     \n",
      "__________________________________________________________________________________________________\n",
      "batch_normalization_26 (BatchNo (None, 1024, 832, 32 128         conv2d_26[0][0]                  \n",
      "__________________________________________________________________________________________________\n",
      "add_8 (Add)                     (None, 1024, 832, 32 0           batch_normalization_26[0][0]     \n",
      "                                                                 batch_normalization_24[0][0]     \n",
      "__________________________________________________________________________________________________\n",
      "activation_8 (Activation)       (None, 1024, 832, 32 0           add_8[0][0]                      \n",
      "__________________________________________________________________________________________________\n",
      "conv2d_27 (Conv2D)              (None, 1024, 832, 1) 33          activation_8[0][0]               \n",
      "==================================================================================================\n",
      "Total params: 11,704,673\n",
      "Trainable params: 11,695,841\n",
      "Non-trainable params: 8,832\n",
      "__________________________________________________________________________________________________\n"
     ]
    }
   ],
   "source": [
    "model_path = './saved_models/resunet_test1_elli'\n",
    "\n",
    "model = load_model(model_path, compile=False)\n",
    "model.compile(loss=[seg_loss], metrics=[dice_coef, iou_coef])\n",
    "model.summary()\n"
   ]
  },
  {
   "cell_type": "code",
   "execution_count": 30,
   "id": "f7b6144d",
   "metadata": {},
   "outputs": [
    {
     "name": "stdout",
     "output_type": "stream",
     "text": [
      "688/688 [==============================] - 23s 33ms/step - loss: -0.1536 - dice_coef: 0.1928 - iou_coef: 0.1275\n",
      "Loss:  -0.15362763404846191\n",
      "DICE:  0.1928020715713501\n",
      "IOU:  0.12751144170761108\n"
     ]
    }
   ],
   "source": [
    "test_loss, test_dice, test_iou = model.evaluate(elli_test_df)\n",
    "print('Loss: ', test_loss)\n",
    "print('DICE: ', test_dice)\n",
    "print('IOU: ', test_iou)"
   ]
  },
  {
   "cell_type": "markdown",
   "id": "52806ea8",
   "metadata": {},
   "source": [
    "### Rectangular ROI:"
   ]
  },
  {
   "cell_type": "code",
   "execution_count": 9,
   "id": "223408ef",
   "metadata": {},
   "outputs": [
    {
     "name": "stdout",
     "output_type": "stream",
     "text": [
      "WARNING:tensorflow:Unable to restore custom metric. Please ensure that the layer implements `get_config` and `from_config` when saving. In addition, please use the `custom_objects` arg when calling `load_model()`.\n",
      "WARNING:tensorflow:Unable to restore custom metric. Please ensure that the layer implements `get_config` and `from_config` when saving. In addition, please use the `custom_objects` arg when calling `load_model()`.\n",
      "Model: \"model\"\n",
      "__________________________________________________________________________________________________\n",
      "Layer (type)                    Output Shape         Param #     Connected to                     \n",
      "==================================================================================================\n",
      "input_1 (InputLayer)            [(None, 1024, 832, 1 0                                            \n",
      "__________________________________________________________________________________________________\n",
      "conv2d (Conv2D)                 (None, 1024, 832, 32 320         input_1[0][0]                    \n",
      "__________________________________________________________________________________________________\n",
      "batch_normalization (BatchNorma (None, 1024, 832, 32 128         conv2d[0][0]                     \n",
      "__________________________________________________________________________________________________\n",
      "conv2d_1 (Conv2D)               (None, 1024, 832, 32 9248        batch_normalization[0][0]        \n",
      "__________________________________________________________________________________________________\n",
      "batch_normalization_1 (BatchNor (None, 1024, 832, 32 128         conv2d_1[0][0]                   \n",
      "__________________________________________________________________________________________________\n",
      "conv2d_2 (Conv2D)               (None, 1024, 832, 32 9248        batch_normalization_1[0][0]      \n",
      "__________________________________________________________________________________________________\n",
      "batch_normalization_2 (BatchNor (None, 1024, 832, 32 128         conv2d_2[0][0]                   \n",
      "__________________________________________________________________________________________________\n",
      "add (Add)                       (None, 1024, 832, 32 0           batch_normalization_2[0][0]      \n",
      "                                                                 batch_normalization[0][0]        \n",
      "__________________________________________________________________________________________________\n",
      "activation (Activation)         (None, 1024, 832, 32 0           add[0][0]                        \n",
      "__________________________________________________________________________________________________\n",
      "max_pooling2d (MaxPooling2D)    (None, 512, 416, 32) 0           activation[0][0]                 \n",
      "__________________________________________________________________________________________________\n",
      "dropout (Dropout)               (None, 512, 416, 32) 0           max_pooling2d[0][0]              \n",
      "__________________________________________________________________________________________________\n",
      "conv2d_3 (Conv2D)               (None, 512, 416, 64) 18496       dropout[0][0]                    \n",
      "__________________________________________________________________________________________________\n",
      "batch_normalization_3 (BatchNor (None, 512, 416, 64) 256         conv2d_3[0][0]                   \n",
      "__________________________________________________________________________________________________\n",
      "conv2d_4 (Conv2D)               (None, 512, 416, 64) 36928       batch_normalization_3[0][0]      \n",
      "__________________________________________________________________________________________________\n",
      "batch_normalization_4 (BatchNor (None, 512, 416, 64) 256         conv2d_4[0][0]                   \n",
      "__________________________________________________________________________________________________\n",
      "conv2d_5 (Conv2D)               (None, 512, 416, 64) 36928       batch_normalization_4[0][0]      \n",
      "__________________________________________________________________________________________________\n",
      "batch_normalization_5 (BatchNor (None, 512, 416, 64) 256         conv2d_5[0][0]                   \n",
      "__________________________________________________________________________________________________\n",
      "add_1 (Add)                     (None, 512, 416, 64) 0           batch_normalization_5[0][0]      \n",
      "                                                                 batch_normalization_3[0][0]      \n",
      "__________________________________________________________________________________________________\n",
      "activation_1 (Activation)       (None, 512, 416, 64) 0           add_1[0][0]                      \n",
      "__________________________________________________________________________________________________\n",
      "max_pooling2d_1 (MaxPooling2D)  (None, 256, 208, 64) 0           activation_1[0][0]               \n",
      "__________________________________________________________________________________________________\n",
      "dropout_1 (Dropout)             (None, 256, 208, 64) 0           max_pooling2d_1[0][0]            \n",
      "__________________________________________________________________________________________________\n",
      "conv2d_6 (Conv2D)               (None, 256, 208, 128 73856       dropout_1[0][0]                  \n",
      "__________________________________________________________________________________________________\n",
      "batch_normalization_6 (BatchNor (None, 256, 208, 128 512         conv2d_6[0][0]                   \n",
      "__________________________________________________________________________________________________\n",
      "conv2d_7 (Conv2D)               (None, 256, 208, 128 147584      batch_normalization_6[0][0]      \n",
      "__________________________________________________________________________________________________\n",
      "batch_normalization_7 (BatchNor (None, 256, 208, 128 512         conv2d_7[0][0]                   \n",
      "__________________________________________________________________________________________________\n",
      "conv2d_8 (Conv2D)               (None, 256, 208, 128 147584      batch_normalization_7[0][0]      \n",
      "__________________________________________________________________________________________________\n",
      "batch_normalization_8 (BatchNor (None, 256, 208, 128 512         conv2d_8[0][0]                   \n",
      "__________________________________________________________________________________________________\n",
      "add_2 (Add)                     (None, 256, 208, 128 0           batch_normalization_8[0][0]      \n",
      "                                                                 batch_normalization_6[0][0]      \n",
      "__________________________________________________________________________________________________\n",
      "activation_2 (Activation)       (None, 256, 208, 128 0           add_2[0][0]                      \n",
      "__________________________________________________________________________________________________\n",
      "max_pooling2d_2 (MaxPooling2D)  (None, 128, 104, 128 0           activation_2[0][0]               \n",
      "__________________________________________________________________________________________________\n",
      "dropout_2 (Dropout)             (None, 128, 104, 128 0           max_pooling2d_2[0][0]            \n",
      "__________________________________________________________________________________________________\n",
      "conv2d_9 (Conv2D)               (None, 128, 104, 256 295168      dropout_2[0][0]                  \n",
      "__________________________________________________________________________________________________\n",
      "batch_normalization_9 (BatchNor (None, 128, 104, 256 1024        conv2d_9[0][0]                   \n",
      "__________________________________________________________________________________________________\n",
      "conv2d_10 (Conv2D)              (None, 128, 104, 256 590080      batch_normalization_9[0][0]      \n",
      "__________________________________________________________________________________________________\n",
      "batch_normalization_10 (BatchNo (None, 128, 104, 256 1024        conv2d_10[0][0]                  \n",
      "__________________________________________________________________________________________________\n",
      "conv2d_11 (Conv2D)              (None, 128, 104, 256 590080      batch_normalization_10[0][0]     \n",
      "__________________________________________________________________________________________________\n",
      "batch_normalization_11 (BatchNo (None, 128, 104, 256 1024        conv2d_11[0][0]                  \n",
      "__________________________________________________________________________________________________\n",
      "add_3 (Add)                     (None, 128, 104, 256 0           batch_normalization_11[0][0]     \n",
      "                                                                 batch_normalization_9[0][0]      \n",
      "__________________________________________________________________________________________________\n",
      "activation_3 (Activation)       (None, 128, 104, 256 0           add_3[0][0]                      \n",
      "__________________________________________________________________________________________________\n",
      "max_pooling2d_3 (MaxPooling2D)  (None, 64, 52, 256)  0           activation_3[0][0]               \n",
      "__________________________________________________________________________________________________\n",
      "dropout_3 (Dropout)             (None, 64, 52, 256)  0           max_pooling2d_3[0][0]            \n",
      "__________________________________________________________________________________________________\n",
      "conv2d_12 (Conv2D)              (None, 64, 52, 512)  1180160     dropout_3[0][0]                  \n",
      "__________________________________________________________________________________________________\n",
      "batch_normalization_12 (BatchNo (None, 64, 52, 512)  2048        conv2d_12[0][0]                  \n",
      "__________________________________________________________________________________________________\n",
      "conv2d_13 (Conv2D)              (None, 64, 52, 512)  2359808     batch_normalization_12[0][0]     \n",
      "__________________________________________________________________________________________________\n",
      "batch_normalization_13 (BatchNo (None, 64, 52, 512)  2048        conv2d_13[0][0]                  \n",
      "__________________________________________________________________________________________________\n",
      "conv2d_14 (Conv2D)              (None, 64, 52, 512)  2359808     batch_normalization_13[0][0]     \n",
      "__________________________________________________________________________________________________\n",
      "batch_normalization_14 (BatchNo (None, 64, 52, 512)  2048        conv2d_14[0][0]                  \n",
      "__________________________________________________________________________________________________\n",
      "add_4 (Add)                     (None, 64, 52, 512)  0           batch_normalization_14[0][0]     \n",
      "                                                                 batch_normalization_12[0][0]     \n",
      "__________________________________________________________________________________________________\n",
      "activation_4 (Activation)       (None, 64, 52, 512)  0           add_4[0][0]                      \n",
      "__________________________________________________________________________________________________\n",
      "conv2d_transpose (Conv2DTranspo (None, 128, 104, 256 524544      activation_4[0][0]               \n",
      "__________________________________________________________________________________________________\n",
      "concatenate (Concatenate)       (None, 128, 104, 512 0           conv2d_transpose[0][0]           \n",
      "                                                                 activation_3[0][0]               \n",
      "__________________________________________________________________________________________________\n",
      "conv2d_15 (Conv2D)              (None, 128, 104, 256 1179904     concatenate[0][0]                \n",
      "__________________________________________________________________________________________________\n",
      "batch_normalization_15 (BatchNo (None, 128, 104, 256 1024        conv2d_15[0][0]                  \n",
      "__________________________________________________________________________________________________\n",
      "conv2d_16 (Conv2D)              (None, 128, 104, 256 590080      batch_normalization_15[0][0]     \n",
      "__________________________________________________________________________________________________\n",
      "batch_normalization_16 (BatchNo (None, 128, 104, 256 1024        conv2d_16[0][0]                  \n",
      "__________________________________________________________________________________________________\n",
      "conv2d_17 (Conv2D)              (None, 128, 104, 256 590080      batch_normalization_16[0][0]     \n",
      "__________________________________________________________________________________________________\n",
      "batch_normalization_17 (BatchNo (None, 128, 104, 256 1024        conv2d_17[0][0]                  \n",
      "__________________________________________________________________________________________________\n",
      "add_5 (Add)                     (None, 128, 104, 256 0           batch_normalization_17[0][0]     \n",
      "                                                                 batch_normalization_15[0][0]     \n",
      "__________________________________________________________________________________________________\n",
      "activation_5 (Activation)       (None, 128, 104, 256 0           add_5[0][0]                      \n",
      "__________________________________________________________________________________________________\n",
      "conv2d_transpose_1 (Conv2DTrans (None, 256, 208, 128 131200      activation_5[0][0]               \n",
      "__________________________________________________________________________________________________\n",
      "concatenate_1 (Concatenate)     (None, 256, 208, 256 0           conv2d_transpose_1[0][0]         \n",
      "                                                                 activation_2[0][0]               \n",
      "__________________________________________________________________________________________________\n",
      "conv2d_18 (Conv2D)              (None, 256, 208, 128 295040      concatenate_1[0][0]              \n",
      "__________________________________________________________________________________________________\n",
      "batch_normalization_18 (BatchNo (None, 256, 208, 128 512         conv2d_18[0][0]                  \n",
      "__________________________________________________________________________________________________\n",
      "conv2d_19 (Conv2D)              (None, 256, 208, 128 147584      batch_normalization_18[0][0]     \n",
      "__________________________________________________________________________________________________\n",
      "batch_normalization_19 (BatchNo (None, 256, 208, 128 512         conv2d_19[0][0]                  \n",
      "__________________________________________________________________________________________________\n",
      "conv2d_20 (Conv2D)              (None, 256, 208, 128 147584      batch_normalization_19[0][0]     \n",
      "__________________________________________________________________________________________________\n",
      "batch_normalization_20 (BatchNo (None, 256, 208, 128 512         conv2d_20[0][0]                  \n",
      "__________________________________________________________________________________________________\n",
      "add_6 (Add)                     (None, 256, 208, 128 0           batch_normalization_20[0][0]     \n",
      "                                                                 batch_normalization_18[0][0]     \n",
      "__________________________________________________________________________________________________\n",
      "activation_6 (Activation)       (None, 256, 208, 128 0           add_6[0][0]                      \n",
      "__________________________________________________________________________________________________\n",
      "conv2d_transpose_2 (Conv2DTrans (None, 512, 416, 64) 32832       activation_6[0][0]               \n",
      "__________________________________________________________________________________________________\n",
      "concatenate_2 (Concatenate)     (None, 512, 416, 128 0           conv2d_transpose_2[0][0]         \n",
      "                                                                 activation_1[0][0]               \n",
      "__________________________________________________________________________________________________\n",
      "conv2d_21 (Conv2D)              (None, 512, 416, 64) 73792       concatenate_2[0][0]              \n",
      "__________________________________________________________________________________________________\n",
      "batch_normalization_21 (BatchNo (None, 512, 416, 64) 256         conv2d_21[0][0]                  \n",
      "__________________________________________________________________________________________________\n",
      "conv2d_22 (Conv2D)              (None, 512, 416, 64) 36928       batch_normalization_21[0][0]     \n",
      "__________________________________________________________________________________________________\n",
      "batch_normalization_22 (BatchNo (None, 512, 416, 64) 256         conv2d_22[0][0]                  \n",
      "__________________________________________________________________________________________________\n",
      "conv2d_23 (Conv2D)              (None, 512, 416, 64) 36928       batch_normalization_22[0][0]     \n",
      "__________________________________________________________________________________________________\n",
      "batch_normalization_23 (BatchNo (None, 512, 416, 64) 256         conv2d_23[0][0]                  \n",
      "__________________________________________________________________________________________________\n",
      "add_7 (Add)                     (None, 512, 416, 64) 0           batch_normalization_23[0][0]     \n",
      "                                                                 batch_normalization_21[0][0]     \n",
      "__________________________________________________________________________________________________\n",
      "activation_7 (Activation)       (None, 512, 416, 64) 0           add_7[0][0]                      \n",
      "__________________________________________________________________________________________________\n",
      "conv2d_transpose_3 (Conv2DTrans (None, 1024, 832, 32 8224        activation_7[0][0]               \n",
      "__________________________________________________________________________________________________\n",
      "concatenate_3 (Concatenate)     (None, 1024, 832, 64 0           conv2d_transpose_3[0][0]         \n",
      "                                                                 activation[0][0]                 \n",
      "__________________________________________________________________________________________________\n",
      "conv2d_24 (Conv2D)              (None, 1024, 832, 32 18464       concatenate_3[0][0]              \n",
      "__________________________________________________________________________________________________\n",
      "batch_normalization_24 (BatchNo (None, 1024, 832, 32 128         conv2d_24[0][0]                  \n",
      "__________________________________________________________________________________________________\n",
      "conv2d_25 (Conv2D)              (None, 1024, 832, 32 9248        batch_normalization_24[0][0]     \n",
      "__________________________________________________________________________________________________\n",
      "batch_normalization_25 (BatchNo (None, 1024, 832, 32 128         conv2d_25[0][0]                  \n",
      "__________________________________________________________________________________________________\n",
      "conv2d_26 (Conv2D)              (None, 1024, 832, 32 9248        batch_normalization_25[0][0]     \n",
      "__________________________________________________________________________________________________\n",
      "batch_normalization_26 (BatchNo (None, 1024, 832, 32 128         conv2d_26[0][0]                  \n",
      "__________________________________________________________________________________________________\n",
      "add_8 (Add)                     (None, 1024, 832, 32 0           batch_normalization_26[0][0]     \n",
      "                                                                 batch_normalization_24[0][0]     \n",
      "__________________________________________________________________________________________________\n",
      "activation_8 (Activation)       (None, 1024, 832, 32 0           add_8[0][0]                      \n",
      "__________________________________________________________________________________________________\n",
      "conv2d_27 (Conv2D)              (None, 1024, 832, 1) 33          activation_8[0][0]               \n",
      "==================================================================================================\n",
      "Total params: 11,704,673\n",
      "Trainable params: 11,695,841\n",
      "Non-trainable params: 8,832\n",
      "__________________________________________________________________________________________________\n"
     ]
    }
   ],
   "source": [
    "model_path = './saved_models/resunet_test1_rect'\n",
    "\n",
    "model = load_model(model_path, compile=False)\n",
    "model.compile(loss=[seg_loss], metrics=[dice_coef, iou_coef])\n",
    "model.summary()\n"
   ]
  },
  {
   "cell_type": "code",
   "execution_count": 12,
   "id": "01c04a0f",
   "metadata": {},
   "outputs": [
    {
     "name": "stdout",
     "output_type": "stream",
     "text": [
      "688/688 [==============================] - 25s 36ms/step - loss: -0.2057 - dice_coef: 0.2563 - iou_coef: 0.1719\n",
      "Loss:  -0.20566609501838684\n",
      "DICE:  0.2563225328922272\n",
      "IOU:  0.17189522087574005\n"
     ]
    }
   ],
   "source": [
    "test_loss, test_dice, test_iou = model.evaluate(rect_test_df)\n",
    "print('Loss: ', test_loss)\n",
    "print('DICE: ', test_dice)\n",
    "print('IOU: ', test_iou)"
   ]
  },
  {
   "cell_type": "markdown",
   "id": "f2f44321",
   "metadata": {},
   "source": [
    "### --------------------------------------------------------------------------------------------------------------------\n",
    "## BiSeNetV2"
   ]
  },
  {
   "cell_type": "markdown",
   "id": "d116c002",
   "metadata": {},
   "source": [
    "### Elliptical ROI:"
   ]
  },
  {
   "cell_type": "code",
   "execution_count": 14,
   "id": "443871e4",
   "metadata": {
    "scrolled": true
   },
   "outputs": [
    {
     "name": "stdout",
     "output_type": "stream",
     "text": [
      "WARNING:tensorflow:Unable to restore custom metric. Please ensure that the layer implements `get_config` and `from_config` when saving. In addition, please use the `custom_objects` arg when calling `load_model()`.\n",
      "WARNING:tensorflow:Unable to restore custom metric. Please ensure that the layer implements `get_config` and `from_config` when saving. In addition, please use the `custom_objects` arg when calling `load_model()`.\n",
      "Model: \"model\"\n",
      "__________________________________________________________________________________________________\n",
      "Layer (type)                    Output Shape         Param #     Connected to                     \n",
      "==================================================================================================\n",
      "input_1 (InputLayer)            [(None, 1024, 832, 1 0                                            \n",
      "__________________________________________________________________________________________________\n",
      "semantic_stem (SemanticStem)    (None, 256, 208, 16) 6312        input_1[0][0]                    \n",
      "__________________________________________________________________________________________________\n",
      "gather_expansion_stride2 (Gathe (None, 128, 104, 32) 21024       semantic_stem[0][0]              \n",
      "__________________________________________________________________________________________________\n",
      "conv2d_3 (Conv2D)               (None, 512, 416, 64) 640         input_1[0][0]                    \n",
      "__________________________________________________________________________________________________\n",
      "gather_expansion_stride1 (Gathe (None, 128, 104, 32) 18368       gather_expansion_stride2[0][0]   \n",
      "__________________________________________________________________________________________________\n",
      "conv2d (Conv2D)                 (None, 512, 416, 64) 36928       conv2d_3[0][0]                   \n",
      "__________________________________________________________________________________________________\n",
      "gather_expansion_stride2_1 (Gat (None, 64, 52, 64)   69696       gather_expansion_stride1[0][0]   \n",
      "__________________________________________________________________________________________________\n",
      "conv2d_4 (Conv2D)               (None, 256, 208, 64) 36928       conv2d[0][0]                     \n",
      "__________________________________________________________________________________________________\n",
      "gather_expansion_stride1_1 (Gat (None, 64, 52, 64)   67456       gather_expansion_stride2_1[0][0] \n",
      "__________________________________________________________________________________________________\n",
      "conv2d_1 (Conv2D)               (None, 256, 208, 64) 36928       conv2d_4[0][0]                   \n",
      "__________________________________________________________________________________________________\n",
      "gather_expansion_stride2_2 (Gat (None, 32, 26, 128)  249984      gather_expansion_stride1_1[0][0] \n",
      "__________________________________________________________________________________________________\n",
      "conv2d_2 (Conv2D)               (None, 256, 208, 64) 36928       conv2d_1[0][0]                   \n",
      "__________________________________________________________________________________________________\n",
      "gather_expansion_stride1_2 (Gat (None, 32, 26, 128)  257792      gather_expansion_stride2_2[0][0] \n",
      "__________________________________________________________________________________________________\n",
      "conv2d_7 (Conv2D)               (None, 128, 104, 128 73856       conv2d_2[0][0]                   \n",
      "__________________________________________________________________________________________________\n",
      "gather_expansion_stride1_3 (Gat (None, 32, 26, 128)  257792      gather_expansion_stride1_2[0][0] \n",
      "__________________________________________________________________________________________________\n",
      "conv2d_5 (Conv2D)               (None, 128, 104, 128 147584      conv2d_7[0][0]                   \n",
      "__________________________________________________________________________________________________\n",
      "gather_expansion_stride1_4 (Gat (None, 32, 26, 128)  257792      gather_expansion_stride1_3[0][0] \n",
      "__________________________________________________________________________________________________\n",
      "conv2d_6 (Conv2D)               (None, 128, 104, 128 147584      conv2d_5[0][0]                   \n",
      "__________________________________________________________________________________________________\n",
      "context_embedding (ContextEmbed (None, 32, 26, 128)  165120      gather_expansion_stride1_4[0][0] \n",
      "__________________________________________________________________________________________________\n",
      "bilateral_aggregation (Bilatera (None, 128, 104, 128 480896      conv2d_6[0][0]                   \n",
      "                                                                 context_embedding[0][0]          \n",
      "__________________________________________________________________________________________________\n",
      "segmentation_head (Segmentation (None, 1024, 832, 1) 1159        bilateral_aggregation[0][0]      \n",
      "==================================================================================================\n",
      "Total params: 2,370,767\n",
      "Trainable params: 2,353,117\n",
      "Non-trainable params: 17,650\n",
      "__________________________________________________________________________________________________\n"
     ]
    }
   ],
   "source": [
    "model_path = './saved_models/bisenetv2_test1_elli'\n",
    "\n",
    "model = load_model(model_path, compile=False)\n",
    "model.compile(loss=[seg_loss], metrics=[dice_coef, iou_coef])\n",
    "model.summary()\n"
   ]
  },
  {
   "cell_type": "code",
   "execution_count": 15,
   "id": "af87de22",
   "metadata": {},
   "outputs": [
    {
     "name": "stdout",
     "output_type": "stream",
     "text": [
      "688/688 [==============================] - 10s 13ms/step - loss: -0.1707 - dice_coef: 0.2122 - iou_coef: 0.1430\n",
      "Loss:  -0.17070819437503815\n",
      "DICE:  0.21221531927585602\n",
      "IOU:  0.14303676784038544\n"
     ]
    }
   ],
   "source": [
    "test_loss, test_dice, test_iou = model.evaluate(elli_test_df)\n",
    "print('Loss: ', test_loss)\n",
    "print('DICE: ', test_dice)\n",
    "print('IOU: ', test_iou)"
   ]
  },
  {
   "cell_type": "markdown",
   "id": "e932f3fa",
   "metadata": {},
   "source": [
    "### Rectangular ROI:"
   ]
  },
  {
   "cell_type": "code",
   "execution_count": 16,
   "id": "6c833082",
   "metadata": {
    "scrolled": true
   },
   "outputs": [
    {
     "name": "stdout",
     "output_type": "stream",
     "text": [
      "WARNING:tensorflow:Unable to restore custom metric. Please ensure that the layer implements `get_config` and `from_config` when saving. In addition, please use the `custom_objects` arg when calling `load_model()`.\n",
      "WARNING:tensorflow:Unable to restore custom metric. Please ensure that the layer implements `get_config` and `from_config` when saving. In addition, please use the `custom_objects` arg when calling `load_model()`.\n",
      "Model: \"model\"\n",
      "__________________________________________________________________________________________________\n",
      "Layer (type)                    Output Shape         Param #     Connected to                     \n",
      "==================================================================================================\n",
      "input_1 (InputLayer)            [(None, 1024, 832, 1 0                                            \n",
      "__________________________________________________________________________________________________\n",
      "semantic_stem (SemanticStem)    (None, 256, 208, 16) 6312        input_1[0][0]                    \n",
      "__________________________________________________________________________________________________\n",
      "gather_expansion_stride2 (Gathe (None, 128, 104, 32) 21024       semantic_stem[0][0]              \n",
      "__________________________________________________________________________________________________\n",
      "conv2d_3 (Conv2D)               (None, 512, 416, 64) 640         input_1[0][0]                    \n",
      "__________________________________________________________________________________________________\n",
      "gather_expansion_stride1 (Gathe (None, 128, 104, 32) 18368       gather_expansion_stride2[0][0]   \n",
      "__________________________________________________________________________________________________\n",
      "conv2d (Conv2D)                 (None, 512, 416, 64) 36928       conv2d_3[0][0]                   \n",
      "__________________________________________________________________________________________________\n",
      "gather_expansion_stride2_1 (Gat (None, 64, 52, 64)   69696       gather_expansion_stride1[0][0]   \n",
      "__________________________________________________________________________________________________\n",
      "conv2d_4 (Conv2D)               (None, 256, 208, 64) 36928       conv2d[0][0]                     \n",
      "__________________________________________________________________________________________________\n",
      "gather_expansion_stride1_1 (Gat (None, 64, 52, 64)   67456       gather_expansion_stride2_1[0][0] \n",
      "__________________________________________________________________________________________________\n",
      "conv2d_1 (Conv2D)               (None, 256, 208, 64) 36928       conv2d_4[0][0]                   \n",
      "__________________________________________________________________________________________________\n",
      "gather_expansion_stride2_2 (Gat (None, 32, 26, 128)  249984      gather_expansion_stride1_1[0][0] \n",
      "__________________________________________________________________________________________________\n",
      "conv2d_2 (Conv2D)               (None, 256, 208, 64) 36928       conv2d_1[0][0]                   \n",
      "__________________________________________________________________________________________________\n",
      "gather_expansion_stride1_2 (Gat (None, 32, 26, 128)  257792      gather_expansion_stride2_2[0][0] \n",
      "__________________________________________________________________________________________________\n",
      "conv2d_7 (Conv2D)               (None, 128, 104, 128 73856       conv2d_2[0][0]                   \n",
      "__________________________________________________________________________________________________\n",
      "gather_expansion_stride1_3 (Gat (None, 32, 26, 128)  257792      gather_expansion_stride1_2[0][0] \n",
      "__________________________________________________________________________________________________\n",
      "conv2d_5 (Conv2D)               (None, 128, 104, 128 147584      conv2d_7[0][0]                   \n",
      "__________________________________________________________________________________________________\n",
      "gather_expansion_stride1_4 (Gat (None, 32, 26, 128)  257792      gather_expansion_stride1_3[0][0] \n",
      "__________________________________________________________________________________________________\n",
      "conv2d_6 (Conv2D)               (None, 128, 104, 128 147584      conv2d_5[0][0]                   \n",
      "__________________________________________________________________________________________________\n",
      "context_embedding (ContextEmbed (None, 32, 26, 128)  165120      gather_expansion_stride1_4[0][0] \n",
      "__________________________________________________________________________________________________\n",
      "bilateral_aggregation (Bilatera (None, 128, 104, 128 480896      conv2d_6[0][0]                   \n",
      "                                                                 context_embedding[0][0]          \n",
      "__________________________________________________________________________________________________\n",
      "segmentation_head (Segmentation (None, 1024, 832, 1) 1159        bilateral_aggregation[0][0]      \n",
      "==================================================================================================\n",
      "Total params: 2,370,767\n",
      "Trainable params: 2,353,117\n",
      "Non-trainable params: 17,650\n",
      "__________________________________________________________________________________________________\n"
     ]
    }
   ],
   "source": [
    "model_path = './saved_models/bisenetv2_test1_rect'\n",
    "\n",
    "model = load_model(model_path, compile=False)\n",
    "model.compile(loss=[seg_loss], metrics=[dice_coef, iou_coef])\n",
    "model.summary()\n"
   ]
  },
  {
   "cell_type": "code",
   "execution_count": 17,
   "id": "896d04c9",
   "metadata": {},
   "outputs": [
    {
     "name": "stdout",
     "output_type": "stream",
     "text": [
      "688/688 [==============================] - 10s 14ms/step - loss: -0.1922 - dice_coef: 0.2358 - iou_coef: 0.1631\n",
      "Loss:  -0.19216419756412506\n",
      "DICE:  0.23582330346107483\n",
      "IOU:  0.1630580872297287\n"
     ]
    }
   ],
   "source": [
    "test_loss, test_dice, test_iou = model.evaluate(rect_test_df)\n",
    "print('Loss: ', test_loss)\n",
    "print('DICE: ', test_dice)\n",
    "print('IOU: ', test_iou)"
   ]
  },
  {
   "cell_type": "markdown",
   "id": "a6e09e9f",
   "metadata": {},
   "source": [
    "### --------------------------------------------------------------------------------------------------------------------\n",
    "## DeepLabV3+ w/ SepResNet50V2"
   ]
  },
  {
   "cell_type": "markdown",
   "id": "56101513",
   "metadata": {},
   "source": [
    "### Elliptical ROI:"
   ]
  },
  {
   "cell_type": "code",
   "execution_count": 18,
   "id": "464f157a",
   "metadata": {
    "scrolled": true
   },
   "outputs": [
    {
     "name": "stdout",
     "output_type": "stream",
     "text": [
      "WARNING:tensorflow:Unable to restore custom metric. Please ensure that the layer implements `get_config` and `from_config` when saving. In addition, please use the `custom_objects` arg when calling `load_model()`.\n",
      "WARNING:tensorflow:Unable to restore custom metric. Please ensure that the layer implements `get_config` and `from_config` when saving. In addition, please use the `custom_objects` arg when calling `load_model()`.\n",
      "Model: \"model_1\"\n",
      "__________________________________________________________________________________________________\n",
      "Layer (type)                    Output Shape         Param #     Connected to                     \n",
      "==================================================================================================\n",
      "input_1 (InputLayer)            [(None, 1024, 832, 1 0                                            \n",
      "__________________________________________________________________________________________________\n",
      "conv2d (Conv2D)                 (None, 512, 416, 32) 1600        input_1[0][0]                    \n",
      "__________________________________________________________________________________________________\n",
      "separable_conv2d (SeparableConv (None, 256, 208, 64) 2400        conv2d[0][0]                     \n",
      "__________________________________________________________________________________________________\n",
      "residual_block (ResidualBlock)  (None, 256, 208, 64) 14592       separable_conv2d[0][0]           \n",
      "__________________________________________________________________________________________________\n",
      "residual_block_1 (ResidualBlock (None, 128, 104, 128 75648       residual_block[0][0]             \n",
      "__________________________________________________________________________________________________\n",
      "residual_block_2 (ResidualBlock (None, 64, 52, 256)  427776      residual_block_1[0][0]           \n",
      "__________________________________________________________________________________________________\n",
      "residual_block_3 (ResidualBlock (None, 64, 52, 256)  205824      residual_block_2[0][0]           \n",
      "__________________________________________________________________________________________________\n",
      "atrous_spatial_pyramid_pooling  (None, 64, 52, 32)   316320      residual_block_3[0][0]           \n",
      "__________________________________________________________________________________________________\n",
      "conv2d_21 (Conv2D)              (None, 256, 208, 32) 2080        residual_block[0][0]             \n",
      "__________________________________________________________________________________________________\n",
      "up_sampling2d_1 (UpSampling2D)  (None, 256, 208, 32) 0           atrous_spatial_pyramid_pooling[0]\n",
      "__________________________________________________________________________________________________\n",
      "concatenate (Concatenate)       (None, 256, 208, 64) 0           conv2d_21[0][0]                  \n",
      "                                                                 up_sampling2d_1[0][0]            \n",
      "__________________________________________________________________________________________________\n",
      "separable_conv2d_22 (SeparableC (None, 256, 208, 1)  641         concatenate[0][0]                \n",
      "__________________________________________________________________________________________________\n",
      "up_sampling2d_2 (UpSampling2D)  (None, 1024, 832, 1) 0           separable_conv2d_22[0][0]        \n",
      "__________________________________________________________________________________________________\n",
      "tf.math.sigmoid (TFOpLambda)    (None, 1024, 832, 1) 0           up_sampling2d_2[0][0]            \n",
      "==================================================================================================\n",
      "Total params: 1,046,881\n",
      "Trainable params: 1,035,617\n",
      "Non-trainable params: 11,264\n",
      "__________________________________________________________________________________________________\n"
     ]
    }
   ],
   "source": [
    "model_path = './saved_models/deep_unet_test1_elli'\n",
    "\n",
    "model = load_model(model_path, compile=False)\n",
    "model.compile(loss=[seg_loss], metrics=[dice_coef, iou_coef])\n",
    "model.summary()\n"
   ]
  },
  {
   "cell_type": "code",
   "execution_count": 19,
   "id": "ea6ca884",
   "metadata": {},
   "outputs": [
    {
     "name": "stdout",
     "output_type": "stream",
     "text": [
      "688/688 [==============================] - 8s 11ms/step - loss: -0.1747 - dice_coef: 0.2224 - iou_coef: 0.1430\n",
      "Loss:  -0.174730584025383\n",
      "DICE:  0.22237753868103027\n",
      "IOU:  0.142966166138649\n"
     ]
    }
   ],
   "source": [
    "test_loss, test_dice, test_iou = model.evaluate(elli_test_df)\n",
    "print('Loss: ', test_loss)\n",
    "print('DICE: ', test_dice)\n",
    "print('IOU: ', test_iou)"
   ]
  },
  {
   "cell_type": "markdown",
   "id": "5ec99369",
   "metadata": {},
   "source": [
    "### Rectangular ROI:"
   ]
  },
  {
   "cell_type": "code",
   "execution_count": 20,
   "id": "1cb38493",
   "metadata": {
    "scrolled": true
   },
   "outputs": [
    {
     "name": "stdout",
     "output_type": "stream",
     "text": [
      "WARNING:tensorflow:Unable to restore custom metric. Please ensure that the layer implements `get_config` and `from_config` when saving. In addition, please use the `custom_objects` arg when calling `load_model()`.\n",
      "WARNING:tensorflow:Unable to restore custom metric. Please ensure that the layer implements `get_config` and `from_config` when saving. In addition, please use the `custom_objects` arg when calling `load_model()`.\n",
      "Model: \"model_1\"\n",
      "__________________________________________________________________________________________________\n",
      "Layer (type)                    Output Shape         Param #     Connected to                     \n",
      "==================================================================================================\n",
      "input_1 (InputLayer)            [(None, 1024, 832, 1 0                                            \n",
      "__________________________________________________________________________________________________\n",
      "conv2d (Conv2D)                 (None, 512, 416, 32) 1600        input_1[0][0]                    \n",
      "__________________________________________________________________________________________________\n",
      "separable_conv2d (SeparableConv (None, 256, 208, 64) 2400        conv2d[0][0]                     \n",
      "__________________________________________________________________________________________________\n",
      "residual_block (ResidualBlock)  (None, 256, 208, 64) 14592       separable_conv2d[0][0]           \n",
      "__________________________________________________________________________________________________\n",
      "residual_block_1 (ResidualBlock (None, 128, 104, 128 75648       residual_block[0][0]             \n",
      "__________________________________________________________________________________________________\n",
      "residual_block_2 (ResidualBlock (None, 64, 52, 256)  427776      residual_block_1[0][0]           \n",
      "__________________________________________________________________________________________________\n",
      "residual_block_3 (ResidualBlock (None, 64, 52, 256)  205824      residual_block_2[0][0]           \n",
      "__________________________________________________________________________________________________\n",
      "atrous_spatial_pyramid_pooling  (None, 64, 52, 32)   316320      residual_block_3[0][0]           \n",
      "__________________________________________________________________________________________________\n",
      "conv2d_21 (Conv2D)              (None, 256, 208, 32) 2080        residual_block[0][0]             \n",
      "__________________________________________________________________________________________________\n",
      "up_sampling2d_1 (UpSampling2D)  (None, 256, 208, 32) 0           atrous_spatial_pyramid_pooling[0]\n",
      "__________________________________________________________________________________________________\n",
      "concatenate (Concatenate)       (None, 256, 208, 64) 0           conv2d_21[0][0]                  \n",
      "                                                                 up_sampling2d_1[0][0]            \n",
      "__________________________________________________________________________________________________\n",
      "separable_conv2d_22 (SeparableC (None, 256, 208, 1)  641         concatenate[0][0]                \n",
      "__________________________________________________________________________________________________\n",
      "up_sampling2d_2 (UpSampling2D)  (None, 1024, 832, 1) 0           separable_conv2d_22[0][0]        \n",
      "__________________________________________________________________________________________________\n",
      "tf.math.sigmoid (TFOpLambda)    (None, 1024, 832, 1) 0           up_sampling2d_2[0][0]            \n",
      "==================================================================================================\n",
      "Total params: 1,046,881\n",
      "Trainable params: 1,035,617\n",
      "Non-trainable params: 11,264\n",
      "__________________________________________________________________________________________________\n"
     ]
    }
   ],
   "source": [
    "model_path = './saved_models/deep_unet_test1_rect2'\n",
    "\n",
    "model = load_model(model_path, compile=False)\n",
    "model.compile(loss=[seg_loss], metrics=[dice_coef, iou_coef])\n",
    "model.summary()\n"
   ]
  },
  {
   "cell_type": "code",
   "execution_count": 21,
   "id": "103f7c27",
   "metadata": {},
   "outputs": [
    {
     "name": "stdout",
     "output_type": "stream",
     "text": [
      "688/688 [==============================] - 10s 14ms/step - loss: -0.1862 - dice_coef: 0.2351 - iou_coef: 0.1537\n",
      "Loss:  -0.186221182346344\n",
      "DICE:  0.2350640892982483\n",
      "IOU:  0.15365950763225555\n"
     ]
    }
   ],
   "source": [
    "test_loss, test_dice, test_iou = model.evaluate(rect_test_df)\n",
    "print('Loss: ', test_loss)\n",
    "print('DICE: ', test_dice)\n",
    "print('IOU: ', test_iou)"
   ]
  },
  {
   "cell_type": "code",
   "execution_count": null,
   "id": "28f0a1a8",
   "metadata": {},
   "outputs": [],
   "source": []
  },
  {
   "cell_type": "markdown",
   "id": "059ee7db",
   "metadata": {},
   "source": [
    "### --------------------------------------------------------------------------------------------------------------------\n",
    "## DeepLabV3+ w/ SepResNet101V2"
   ]
  },
  {
   "cell_type": "markdown",
   "id": "79dc7fc4",
   "metadata": {},
   "source": [
    "### Elliptical ROI:"
   ]
  },
  {
   "cell_type": "code",
   "execution_count": 31,
   "id": "9a99390b",
   "metadata": {},
   "outputs": [
    {
     "name": "stdout",
     "output_type": "stream",
     "text": [
      "WARNING:tensorflow:Unable to restore custom metric. Please ensure that the layer implements `get_config` and `from_config` when saving. In addition, please use the `custom_objects` arg when calling `load_model()`.\n",
      "WARNING:tensorflow:Unable to restore custom metric. Please ensure that the layer implements `get_config` and `from_config` when saving. In addition, please use the `custom_objects` arg when calling `load_model()`.\n",
      "Model: \"model_1\"\n",
      "__________________________________________________________________________________________________\n",
      "Layer (type)                    Output Shape         Param #     Connected to                     \n",
      "==================================================================================================\n",
      "input_1 (InputLayer)            [(None, 1024, 832, 1 0                                            \n",
      "__________________________________________________________________________________________________\n",
      "conv2d (Conv2D)                 (None, 512, 416, 32) 1600        input_1[0][0]                    \n",
      "__________________________________________________________________________________________________\n",
      "separable_conv2d (SeparableConv (None, 256, 208, 64) 2400        conv2d[0][0]                     \n",
      "__________________________________________________________________________________________________\n",
      "residual_block (ResidualBlock)  (None, 256, 208, 64) 14592       separable_conv2d[0][0]           \n",
      "__________________________________________________________________________________________________\n",
      "residual_block_1 (ResidualBlock (None, 128, 104, 128 75648       residual_block[0][0]             \n",
      "__________________________________________________________________________________________________\n",
      "residual_block_2 (ResidualBlock (None, 64, 52, 256)  1594112     residual_block_1[0][0]           \n",
      "__________________________________________________________________________________________________\n",
      "residual_block_3 (ResidualBlock (None, 64, 52, 256)  205824      residual_block_2[0][0]           \n",
      "__________________________________________________________________________________________________\n",
      "atrous_spatial_pyramid_pooling  (None, 64, 52, 32)   316320      residual_block_3[0][0]           \n",
      "__________________________________________________________________________________________________\n",
      "conv2d_38 (Conv2D)              (None, 256, 208, 32) 2080        residual_block[0][0]             \n",
      "__________________________________________________________________________________________________\n",
      "up_sampling2d_1 (UpSampling2D)  (None, 256, 208, 32) 0           atrous_spatial_pyramid_pooling[0]\n",
      "__________________________________________________________________________________________________\n",
      "concatenate (Concatenate)       (None, 256, 208, 64) 0           conv2d_38[0][0]                  \n",
      "                                                                 up_sampling2d_1[0][0]            \n",
      "__________________________________________________________________________________________________\n",
      "separable_conv2d_39 (SeparableC (None, 256, 208, 1)  641         concatenate[0][0]                \n",
      "__________________________________________________________________________________________________\n",
      "up_sampling2d_2 (UpSampling2D)  (None, 1024, 832, 1) 0           separable_conv2d_39[0][0]        \n",
      "__________________________________________________________________________________________________\n",
      "tf.math.sigmoid (TFOpLambda)    (None, 1024, 832, 1) 0           up_sampling2d_2[0][0]            \n",
      "==================================================================================================\n",
      "Total params: 2,213,217\n",
      "Trainable params: 2,188,897\n",
      "Non-trainable params: 24,320\n",
      "__________________________________________________________________________________________________\n"
     ]
    }
   ],
   "source": [
    "model_path = './saved_models/deep_unet_test101_elli'\n",
    "\n",
    "model = load_model(model_path, compile=False)\n",
    "model.compile(loss=[seg_loss], metrics=[dice_coef, iou_coef])\n",
    "model.summary()\n"
   ]
  },
  {
   "cell_type": "code",
   "execution_count": 32,
   "id": "2dfc3053",
   "metadata": {},
   "outputs": [
    {
     "name": "stdout",
     "output_type": "stream",
     "text": [
      "688/688 [==============================] - 11s 15ms/step - loss: -0.1917 - dice_coef: 0.2384 - iou_coef: 0.1605\n",
      "Loss:  -0.19165238738059998\n",
      "DICE:  0.23839300870895386\n",
      "IOU:  0.1604919582605362\n"
     ]
    }
   ],
   "source": [
    "test_loss, test_dice, test_iou = model.evaluate(elli_test_df)\n",
    "print('Loss: ', test_loss)\n",
    "print('DICE: ', test_dice)\n",
    "print('IOU: ', test_iou)"
   ]
  },
  {
   "cell_type": "markdown",
   "id": "79cada45",
   "metadata": {},
   "source": [
    "### Rectangular ROI:"
   ]
  },
  {
   "cell_type": "code",
   "execution_count": 33,
   "id": "8830bfab",
   "metadata": {},
   "outputs": [
    {
     "name": "stdout",
     "output_type": "stream",
     "text": [
      "WARNING:tensorflow:Unable to restore custom metric. Please ensure that the layer implements `get_config` and `from_config` when saving. In addition, please use the `custom_objects` arg when calling `load_model()`.\n",
      "WARNING:tensorflow:Unable to restore custom metric. Please ensure that the layer implements `get_config` and `from_config` when saving. In addition, please use the `custom_objects` arg when calling `load_model()`.\n",
      "Model: \"model_1\"\n",
      "__________________________________________________________________________________________________\n",
      "Layer (type)                    Output Shape         Param #     Connected to                     \n",
      "==================================================================================================\n",
      "input_1 (InputLayer)            [(None, 1024, 832, 1 0                                            \n",
      "__________________________________________________________________________________________________\n",
      "conv2d (Conv2D)                 (None, 512, 416, 32) 1600        input_1[0][0]                    \n",
      "__________________________________________________________________________________________________\n",
      "separable_conv2d (SeparableConv (None, 256, 208, 64) 2400        conv2d[0][0]                     \n",
      "__________________________________________________________________________________________________\n",
      "residual_block (ResidualBlock)  (None, 256, 208, 64) 14592       separable_conv2d[0][0]           \n",
      "__________________________________________________________________________________________________\n",
      "residual_block_1 (ResidualBlock (None, 128, 104, 128 75648       residual_block[0][0]             \n",
      "__________________________________________________________________________________________________\n",
      "residual_block_2 (ResidualBlock (None, 64, 52, 256)  1594112     residual_block_1[0][0]           \n",
      "__________________________________________________________________________________________________\n",
      "residual_block_3 (ResidualBlock (None, 64, 52, 256)  205824      residual_block_2[0][0]           \n",
      "__________________________________________________________________________________________________\n",
      "atrous_spatial_pyramid_pooling  (None, 64, 52, 32)   316320      residual_block_3[0][0]           \n",
      "__________________________________________________________________________________________________\n",
      "conv2d_38 (Conv2D)              (None, 256, 208, 32) 2080        residual_block[0][0]             \n",
      "__________________________________________________________________________________________________\n",
      "up_sampling2d_1 (UpSampling2D)  (None, 256, 208, 32) 0           atrous_spatial_pyramid_pooling[0]\n",
      "__________________________________________________________________________________________________\n",
      "concatenate (Concatenate)       (None, 256, 208, 64) 0           conv2d_38[0][0]                  \n",
      "                                                                 up_sampling2d_1[0][0]            \n",
      "__________________________________________________________________________________________________\n",
      "separable_conv2d_39 (SeparableC (None, 256, 208, 1)  641         concatenate[0][0]                \n",
      "__________________________________________________________________________________________________\n",
      "up_sampling2d_2 (UpSampling2D)  (None, 1024, 832, 1) 0           separable_conv2d_39[0][0]        \n",
      "__________________________________________________________________________________________________\n",
      "tf.math.sigmoid (TFOpLambda)    (None, 1024, 832, 1) 0           up_sampling2d_2[0][0]            \n",
      "==================================================================================================\n",
      "Total params: 2,213,217\n",
      "Trainable params: 2,188,897\n",
      "Non-trainable params: 24,320\n",
      "__________________________________________________________________________________________________\n"
     ]
    }
   ],
   "source": [
    "model_path = './saved_models/deep_unet_test101_rect2'\n",
    "\n",
    "model = load_model(model_path, compile=False)\n",
    "model.compile(loss=[seg_loss], metrics=[dice_coef, iou_coef])\n",
    "model.summary()\n"
   ]
  },
  {
   "cell_type": "code",
   "execution_count": 34,
   "id": "3370642f",
   "metadata": {},
   "outputs": [
    {
     "name": "stdout",
     "output_type": "stream",
     "text": [
      "688/688 [==============================] - 12s 17ms/step - loss: -0.2077 - dice_coef: 0.2590 - iou_coef: 0.1736\n",
      "Loss:  -0.20772013068199158\n",
      "DICE:  0.2589723765850067\n",
      "IOU:  0.1735517978668213\n"
     ]
    }
   ],
   "source": [
    "test_loss, test_dice, test_iou = model.evaluate(rect_test_df)\n",
    "print('Loss: ', test_loss)\n",
    "print('DICE: ', test_dice)\n",
    "print('IOU: ', test_iou)"
   ]
  },
  {
   "cell_type": "code",
   "execution_count": null,
   "id": "3e212eca",
   "metadata": {},
   "outputs": [],
   "source": []
  },
  {
   "cell_type": "markdown",
   "id": "2ad030d0",
   "metadata": {},
   "source": [
    "### --------------------------------------------------------------------------------------------------------------------\n",
    "## DeepLabV3+ w/ SepResNet152V2"
   ]
  },
  {
   "cell_type": "markdown",
   "id": "f3932119",
   "metadata": {},
   "source": [
    "### Elliptical ROI:"
   ]
  },
  {
   "cell_type": "code",
   "execution_count": 9,
   "id": "276d5186",
   "metadata": {},
   "outputs": [
    {
     "name": "stdout",
     "output_type": "stream",
     "text": [
      "WARNING:tensorflow:Unable to restore custom metric. Please ensure that the layer implements `get_config` and `from_config` when saving. In addition, please use the `custom_objects` arg when calling `load_model()`.\n",
      "WARNING:tensorflow:Unable to restore custom metric. Please ensure that the layer implements `get_config` and `from_config` when saving. In addition, please use the `custom_objects` arg when calling `load_model()`.\n",
      "Model: \"model_1\"\n",
      "__________________________________________________________________________________________________\n",
      "Layer (type)                    Output Shape         Param #     Connected to                     \n",
      "==================================================================================================\n",
      "input_1 (InputLayer)            [(None, 1024, 832, 1 0                                            \n",
      "__________________________________________________________________________________________________\n",
      "conv2d (Conv2D)                 (None, 512, 416, 32) 1600        input_1[0][0]                    \n",
      "__________________________________________________________________________________________________\n",
      "separable_conv2d (SeparableConv (None, 256, 208, 64) 2400        conv2d[0][0]                     \n",
      "__________________________________________________________________________________________________\n",
      "residual_block (ResidualBlock)  (None, 256, 208, 64) 14592       separable_conv2d[0][0]           \n",
      "__________________________________________________________________________________________________\n",
      "residual_block_1 (ResidualBlock (None, 128, 104, 128 147328      residual_block[0][0]             \n",
      "__________________________________________________________________________________________________\n",
      "residual_block_2 (ResidualBlock (None, 64, 52, 256)  2486016     residual_block_1[0][0]           \n",
      "__________________________________________________________________________________________________\n",
      "residual_block_3 (ResidualBlock (None, 64, 52, 256)  205824      residual_block_2[0][0]           \n",
      "__________________________________________________________________________________________________\n",
      "atrous_spatial_pyramid_pooling  (None, 64, 52, 32)   316320      residual_block_3[0][0]           \n",
      "__________________________________________________________________________________________________\n",
      "conv2d_55 (Conv2D)              (None, 256, 208, 32) 2080        residual_block[0][0]             \n",
      "__________________________________________________________________________________________________\n",
      "up_sampling2d_1 (UpSampling2D)  (None, 256, 208, 32) 0           atrous_spatial_pyramid_pooling[0]\n",
      "__________________________________________________________________________________________________\n",
      "concatenate (Concatenate)       (None, 256, 208, 64) 0           conv2d_55[0][0]                  \n",
      "                                                                 up_sampling2d_1[0][0]            \n",
      "__________________________________________________________________________________________________\n",
      "separable_conv2d_56 (SeparableC (None, 256, 208, 1)  641         concatenate[0][0]                \n",
      "__________________________________________________________________________________________________\n",
      "up_sampling2d_2 (UpSampling2D)  (None, 1024, 832, 1) 0           separable_conv2d_56[0][0]        \n",
      "__________________________________________________________________________________________________\n",
      "tf.math.sigmoid (TFOpLambda)    (None, 1024, 832, 1) 0           up_sampling2d_2[0][0]            \n",
      "==================================================================================================\n",
      "Total params: 3,176,801\n",
      "Trainable params: 3,140,961\n",
      "Non-trainable params: 35,840\n",
      "__________________________________________________________________________________________________\n"
     ]
    }
   ],
   "source": [
    "model_path = './saved_models/deep_unet_test152_elli1'\n",
    "\n",
    "model = load_model(model_path, compile=False)\n",
    "model.compile(loss=[seg_loss], metrics=[dice_coef, iou_coef])\n",
    "model.summary()\n"
   ]
  },
  {
   "cell_type": "code",
   "execution_count": 8,
   "id": "310be402",
   "metadata": {},
   "outputs": [
    {
     "name": "stdout",
     "output_type": "stream",
     "text": [
      "688/688 [==============================] - 14s 19ms/step - loss: -0.1978 - dice_coef: 0.2450 - iou_coef: 0.1663\n",
      "Loss:  -0.197812020778656\n",
      "DICE:  0.2450248748064041\n",
      "IOU:  0.16633670032024384\n"
     ]
    }
   ],
   "source": [
    "test_loss, test_dice, test_iou = model.evaluate(elli_test_df)\n",
    "print('Loss: ', test_loss)\n",
    "print('DICE: ', test_dice)\n",
    "print('IOU: ', test_iou)"
   ]
  },
  {
   "cell_type": "markdown",
   "id": "a54475ab",
   "metadata": {},
   "source": [
    "### Rectangular ROI:"
   ]
  },
  {
   "cell_type": "code",
   "execution_count": 5,
   "id": "85c91b70",
   "metadata": {},
   "outputs": [
    {
     "name": "stdout",
     "output_type": "stream",
     "text": [
      "WARNING:tensorflow:Unable to restore custom metric. Please ensure that the layer implements `get_config` and `from_config` when saving. In addition, please use the `custom_objects` arg when calling `load_model()`.\n",
      "WARNING:tensorflow:Unable to restore custom metric. Please ensure that the layer implements `get_config` and `from_config` when saving. In addition, please use the `custom_objects` arg when calling `load_model()`.\n",
      "Model: \"model_1\"\n",
      "__________________________________________________________________________________________________\n",
      "Layer (type)                    Output Shape         Param #     Connected to                     \n",
      "==================================================================================================\n",
      "input_1 (InputLayer)            [(None, 1024, 832, 1 0                                            \n",
      "__________________________________________________________________________________________________\n",
      "conv2d (Conv2D)                 (None, 512, 416, 32) 1600        input_1[0][0]                    \n",
      "__________________________________________________________________________________________________\n",
      "separable_conv2d (SeparableConv (None, 256, 208, 64) 2400        conv2d[0][0]                     \n",
      "__________________________________________________________________________________________________\n",
      "residual_block (ResidualBlock)  (None, 256, 208, 64) 14592       separable_conv2d[0][0]           \n",
      "__________________________________________________________________________________________________\n",
      "residual_block_1 (ResidualBlock (None, 128, 104, 128 147328      residual_block[0][0]             \n",
      "__________________________________________________________________________________________________\n",
      "residual_block_2 (ResidualBlock (None, 64, 52, 256)  2486016     residual_block_1[0][0]           \n",
      "__________________________________________________________________________________________________\n",
      "residual_block_3 (ResidualBlock (None, 64, 52, 256)  205824      residual_block_2[0][0]           \n",
      "__________________________________________________________________________________________________\n",
      "atrous_spatial_pyramid_pooling  (None, 64, 52, 32)   316320      residual_block_3[0][0]           \n",
      "__________________________________________________________________________________________________\n",
      "conv2d_55 (Conv2D)              (None, 256, 208, 32) 2080        residual_block[0][0]             \n",
      "__________________________________________________________________________________________________\n",
      "up_sampling2d_1 (UpSampling2D)  (None, 256, 208, 32) 0           atrous_spatial_pyramid_pooling[0]\n",
      "__________________________________________________________________________________________________\n",
      "concatenate (Concatenate)       (None, 256, 208, 64) 0           conv2d_55[0][0]                  \n",
      "                                                                 up_sampling2d_1[0][0]            \n",
      "__________________________________________________________________________________________________\n",
      "separable_conv2d_56 (SeparableC (None, 256, 208, 1)  641         concatenate[0][0]                \n",
      "__________________________________________________________________________________________________\n",
      "up_sampling2d_2 (UpSampling2D)  (None, 1024, 832, 1) 0           separable_conv2d_56[0][0]        \n",
      "__________________________________________________________________________________________________\n",
      "tf.math.sigmoid (TFOpLambda)    (None, 1024, 832, 1) 0           up_sampling2d_2[0][0]            \n",
      "==================================================================================================\n",
      "Total params: 3,176,801\n",
      "Trainable params: 3,140,961\n",
      "Non-trainable params: 35,840\n",
      "__________________________________________________________________________________________________\n"
     ]
    }
   ],
   "source": [
    "model_path = './saved_models/deep_unet_test152_rect1'\n",
    "\n",
    "model = load_model(model_path, compile=False)\n",
    "model.compile(loss=[seg_loss], metrics=[dice_coef, iou_coef])\n",
    "model.summary()\n"
   ]
  },
  {
   "cell_type": "code",
   "execution_count": 6,
   "id": "ce425e36",
   "metadata": {},
   "outputs": [
    {
     "name": "stderr",
     "output_type": "stream",
     "text": [
      "2023-04-30 11:29:36.060420: I tensorflow/compiler/mlir/mlir_graph_optimization_pass.cc:176] None of the MLIR Optimization Passes are enabled (registered 2)\n",
      "2023-04-30 11:29:36.076956: I tensorflow/core/platform/profile_utils/cpu_utils.cc:114] CPU Frequency: 3800060000 Hz\n",
      "2023-04-30 11:29:37.189509: I tensorflow/stream_executor/platform/default/dso_loader.cc:53] Successfully opened dynamic library libcudnn.so.8\n",
      "2023-04-30 11:29:37.643528: I tensorflow/stream_executor/cuda/cuda_dnn.cc:359] Loaded cuDNN version 8100\n",
      "2023-04-30 11:29:38.222339: I tensorflow/stream_executor/platform/default/dso_loader.cc:53] Successfully opened dynamic library libcublas.so.11\n"
     ]
    },
    {
     "name": "stdout",
     "output_type": "stream",
     "text": [
      "      3/Unknown - 3s 26ms/step - loss: -0.1863 - dice_coef: 0.2496 - iou_coef: 0.1442"
     ]
    },
    {
     "name": "stderr",
     "output_type": "stream",
     "text": [
      "2023-04-30 11:29:38.623336: I tensorflow/stream_executor/platform/default/dso_loader.cc:53] Successfully opened dynamic library libcublasLt.so.11\n"
     ]
    },
    {
     "name": "stdout",
     "output_type": "stream",
     "text": [
      "688/688 [==============================] - 17s 21ms/step - loss: -0.2010 - dice_coef: 0.2510 - iou_coef: 0.1677\n",
      "Loss:  -0.20104730129241943\n",
      "DICE:  0.25101780891418457\n",
      "IOU:  0.16773371398448944\n"
     ]
    }
   ],
   "source": [
    "test_loss, test_dice, test_iou = model.evaluate(rect_test_df)\n",
    "print('Loss: ', test_loss)\n",
    "print('DICE: ', test_dice)\n",
    "print('IOU: ', test_iou)"
   ]
  },
  {
   "cell_type": "code",
   "execution_count": null,
   "id": "e983e648",
   "metadata": {},
   "outputs": [],
   "source": []
  }
 ],
 "metadata": {
  "kernelspec": {
   "display_name": "tf",
   "language": "python",
   "name": "tf"
  },
  "language_info": {
   "codemirror_mode": {
    "name": "ipython",
    "version": 3
   },
   "file_extension": ".py",
   "mimetype": "text/x-python",
   "name": "python",
   "nbconvert_exporter": "python",
   "pygments_lexer": "ipython3",
   "version": "3.8.0"
  }
 },
 "nbformat": 4,
 "nbformat_minor": 5
}
